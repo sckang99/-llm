{
  "cells": [
    {
      "cell_type": "markdown",
      "metadata": {
        "id": "Qf_XcjXD89hw"
      },
      "source": [
        "# 라마인덱스 사전 준비"
      ]
    },
    {
      "cell_type": "code",
      "execution_count": 1,
      "metadata": {
        "colab": {
          "base_uri": "https://localhost:8080/"
        },
        "id": "mkPbwp6-ploX",
        "outputId": "c5f7da13-0554-42e9-b175-7f7c26a1e3da"
      },
      "outputs": [
        {
          "name": "stdout",
          "output_type": "stream",
          "text": [
            "Requirement already satisfied: llama-index==0.6.12 in /usr/local/lib/python3.10/dist-packages (0.6.12)\n",
            "Requirement already satisfied: langchain==0.0.181 in /usr/local/lib/python3.10/dist-packages (0.0.181)\n",
            "Requirement already satisfied: openai==0.28 in /usr/local/lib/python3.10/dist-packages (0.28.0)\n",
            "Requirement already satisfied: dataclasses-json in /usr/local/lib/python3.10/dist-packages (from llama-index==0.6.12) (0.5.14)\n",
            "Requirement already satisfied: sqlalchemy>=2.0.15 in /usr/local/lib/python3.10/dist-packages (from llama-index==0.6.12) (2.0.24)\n",
            "Requirement already satisfied: numpy in /usr/local/lib/python3.10/dist-packages (from llama-index==0.6.12) (1.25.2)\n",
            "Requirement already satisfied: tenacity<9.0.0,>=8.2.0 in /usr/local/lib/python3.10/dist-packages (from llama-index==0.6.12) (8.5.0)\n",
            "Requirement already satisfied: pandas in /usr/local/lib/python3.10/dist-packages (from llama-index==0.6.12) (2.0.3)\n",
            "Requirement already satisfied: urllib3<2 in /usr/local/lib/python3.10/dist-packages (from llama-index==0.6.12) (1.26.19)\n",
            "Requirement already satisfied: fsspec>=2023.5.0 in /usr/local/lib/python3.10/dist-packages (from llama-index==0.6.12) (2024.6.1)\n",
            "Requirement already satisfied: typing-inspect==0.8.0 in /usr/local/lib/python3.10/dist-packages (from llama-index==0.6.12) (0.8.0)\n",
            "Requirement already satisfied: typing-extensions==4.5.0 in /usr/local/lib/python3.10/dist-packages (from llama-index==0.6.12) (4.5.0)\n",
            "Requirement already satisfied: tiktoken in /usr/local/lib/python3.10/dist-packages (from llama-index==0.6.12) (0.7.0)\n",
            "Requirement already satisfied: PyYAML>=5.4.1 in /usr/local/lib/python3.10/dist-packages (from langchain==0.0.181) (6.0.1)\n",
            "Requirement already satisfied: aiohttp<4.0.0,>=3.8.3 in /usr/local/lib/python3.10/dist-packages (from langchain==0.0.181) (3.9.5)\n",
            "Requirement already satisfied: async-timeout<5.0.0,>=4.0.0 in /usr/local/lib/python3.10/dist-packages (from langchain==0.0.181) (4.0.3)\n",
            "Requirement already satisfied: numexpr<3.0.0,>=2.8.4 in /usr/local/lib/python3.10/dist-packages (from langchain==0.0.181) (2.10.1)\n",
            "Requirement already satisfied: openapi-schema-pydantic<2.0,>=1.2 in /usr/local/lib/python3.10/dist-packages (from langchain==0.0.181) (1.2.4)\n",
            "Requirement already satisfied: pydantic<2,>=1 in /usr/local/lib/python3.10/dist-packages (from langchain==0.0.181) (1.10.17)\n",
            "Requirement already satisfied: requests<3,>=2 in /usr/local/lib/python3.10/dist-packages (from langchain==0.0.181) (2.31.0)\n",
            "Requirement already satisfied: tqdm in /usr/local/lib/python3.10/dist-packages (from openai==0.28) (4.66.4)\n",
            "Requirement already satisfied: mypy-extensions>=0.3.0 in /usr/local/lib/python3.10/dist-packages (from typing-inspect==0.8.0->llama-index==0.6.12) (1.0.0)\n",
            "Requirement already satisfied: aiosignal>=1.1.2 in /usr/local/lib/python3.10/dist-packages (from aiohttp<4.0.0,>=3.8.3->langchain==0.0.181) (1.3.1)\n",
            "Requirement already satisfied: attrs>=17.3.0 in /usr/local/lib/python3.10/dist-packages (from aiohttp<4.0.0,>=3.8.3->langchain==0.0.181) (23.2.0)\n",
            "Requirement already satisfied: frozenlist>=1.1.1 in /usr/local/lib/python3.10/dist-packages (from aiohttp<4.0.0,>=3.8.3->langchain==0.0.181) (1.4.1)\n",
            "Requirement already satisfied: multidict<7.0,>=4.5 in /usr/local/lib/python3.10/dist-packages (from aiohttp<4.0.0,>=3.8.3->langchain==0.0.181) (6.0.5)\n",
            "Requirement already satisfied: yarl<2.0,>=1.0 in /usr/local/lib/python3.10/dist-packages (from aiohttp<4.0.0,>=3.8.3->langchain==0.0.181) (1.9.4)\n",
            "Requirement already satisfied: marshmallow<4.0.0,>=3.18.0 in /usr/local/lib/python3.10/dist-packages (from dataclasses-json->llama-index==0.6.12) (3.21.3)\n",
            "Requirement already satisfied: charset-normalizer<4,>=2 in /usr/local/lib/python3.10/dist-packages (from requests<3,>=2->langchain==0.0.181) (3.3.2)\n",
            "Requirement already satisfied: idna<4,>=2.5 in /usr/local/lib/python3.10/dist-packages (from requests<3,>=2->langchain==0.0.181) (3.7)\n",
            "Requirement already satisfied: certifi>=2017.4.17 in /usr/local/lib/python3.10/dist-packages (from requests<3,>=2->langchain==0.0.181) (2024.7.4)\n",
            "Requirement already satisfied: greenlet!=0.4.17 in /usr/local/lib/python3.10/dist-packages (from sqlalchemy>=2.0.15->llama-index==0.6.12) (3.0.3)\n",
            "Requirement already satisfied: python-dateutil>=2.8.2 in /usr/local/lib/python3.10/dist-packages (from pandas->llama-index==0.6.12) (2.8.2)\n",
            "Requirement already satisfied: pytz>=2020.1 in /usr/local/lib/python3.10/dist-packages (from pandas->llama-index==0.6.12) (2024.1)\n",
            "Requirement already satisfied: tzdata>=2022.1 in /usr/local/lib/python3.10/dist-packages (from pandas->llama-index==0.6.12) (2024.1)\n",
            "Requirement already satisfied: regex>=2022.1.18 in /usr/local/lib/python3.10/dist-packages (from tiktoken->llama-index==0.6.12) (2024.5.15)\n",
            "Requirement already satisfied: packaging>=17.0 in /usr/local/lib/python3.10/dist-packages (from marshmallow<4.0.0,>=3.18.0->dataclasses-json->llama-index==0.6.12) (24.1)\n",
            "Requirement already satisfied: six>=1.5 in /usr/local/lib/python3.10/dist-packages (from python-dateutil>=2.8.2->pandas->llama-index==0.6.12) (1.16.0)\n"
          ]
        }
      ],
      "source": [
        "# 패키지 설치\n",
        "!pip install llama-index==0.6.12 langchain==0.0.181 openai==0.28"
      ]
    },
    {
      "cell_type": "code",
      "execution_count": 3,
      "metadata": {
        "id": "_Gf8Rfw2MiG_"
      },
      "outputs": [],
      "source": [
        "# 환경변수 준비\n",
        "import os\n",
        "os.environ[\"OPENAI_API_KEY\"] = 'YOUR_KEY'"
      ]
    },
    {
      "cell_type": "code",
      "execution_count": 4,
      "metadata": {
        "id": "g9Nyr59eqRUh"
      },
      "outputs": [],
      "source": [
        "import logging\n",
        "import sys\n",
        "\n",
        "# 로그 레벨 설정\n",
        "logging.basicConfig(stream=sys.stdout, level=logging.DEBUG, force=True)"
      ]
    },
    {
      "cell_type": "markdown",
      "metadata": {
        "id": "5wL-FfZDW4vK"
      },
      "source": [
        "# 라마인덱스의 질의응답"
      ]
    },
    {
      "cell_type": "code",
      "execution_count": 6,
      "metadata": {
        "colab": {
          "base_uri": "https://localhost:8080/"
        },
        "id": "WsBr4NJx50By",
        "outputId": "a41dbb01-d6a7-4ee2-8cbb-605459cf06ea"
      },
      "outputs": [
        {
          "name": "stdout",
          "output_type": "stream",
          "text": [
            "DEBUG:llama_index.readers.file.base:> [SimpleDirectoryReader] Total files added: 7\n"
          ]
        }
      ],
      "source": [
        "from llama_index import SimpleDirectoryReader\n",
        "\n",
        "# 문서 로드(data 폴더에 문서를 넣어 두세요)\n",
        "documents = SimpleDirectoryReader(\"data\").load_data()"
      ]
    },
    {
      "cell_type": "code",
      "execution_count": 7,
      "metadata": {
        "colab": {
          "base_uri": "https://localhost:8080/"
        },
        "id": "tYJGurhbyDPj",
        "outputId": "d73db10a-0001-4139-8c0d-fa1dc8df7f59"
      },
      "outputs": [
        {
          "name": "stdout",
          "output_type": "stream",
          "text": [
            "DEBUG:urllib3.connectionpool:Starting new HTTPS connection (1): openaipublic.blob.core.windows.net:443\n",
            "DEBUG:urllib3.connectionpool:https://openaipublic.blob.core.windows.net:443 \"GET /gpt-2/encodings/main/vocab.bpe HTTP/1.1\" 200 456318\n",
            "DEBUG:urllib3.connectionpool:Starting new HTTPS connection (1): openaipublic.blob.core.windows.net:443\n",
            "DEBUG:urllib3.connectionpool:https://openaipublic.blob.core.windows.net:443 \"GET /gpt-2/encodings/main/encoder.json HTTP/1.1\" 200 1042301\n",
            "WARNING:llama_index.llm_predictor.base:Unknown max input size for gpt-3.5-turbo, using defaults.\n",
            "DEBUG:llama_index.node_parser.node_utils:> Adding chunk: 제1장: 데이터 프론트\n",
            "\n",
            "밤이 되면 반짝이는 네오 도쿄. 고층 빌딩이 늘어서고, 네온...\n",
            "DEBUG:llama_index.node_parser.node_utils:> Adding chunk: 제2장: 울프 코퍼레이션의 함정\n",
            "\n",
            "미코는 목적지인 술집 '할머니의 집'으로 향하는 길...\n",
            "DEBUG:llama_index.node_parser.node_utils:> Adding chunk: 제3장: 배신과 재회\n",
            "\n",
            "술집 '할머니의 집'에서 미코는 데이터를 받을 사람인 료를 기...\n",
            "DEBUG:llama_index.node_parser.node_utils:> Adding chunk: 제4장: 울프 코퍼레이션의 붕괴\n",
            "\n",
            "미코와 료는 해커 집단과 함께 울프 코퍼레이션에 대...\n",
            "DEBUG:llama_index.node_parser.node_utils:> Adding chunk: 제5장: 결전의 순간\n",
            "\n",
            "미코와 료는 마침내 울프 코퍼레이션의 최상층에 도착해 CEO인...\n",
            "DEBUG:llama_index.node_parser.node_utils:> Adding chunk: 제6장: 진실의 해방\n",
            "\n",
            "미코는 울프 박사의 약점을 파고들어 그를 쓰러뜨리는데 성공한다...\n",
            "DEBUG:llama_index.node_parser.node_utils:> Adding chunk: 제7장: 새로운 시작\n",
            "\n",
            "울프 코퍼레이션이 무너진 후, 미코와 료는 서로의 과거를 용서...\n",
            "DEBUG:openai:message='Request to OpenAI API' method=post path=https://api.openai.com/v1/embeddings\n",
            "DEBUG:openai:api_version=None data='{\"input\": [\"\\\\uc81c1\\\\uc7a5: \\\\ub370\\\\uc774\\\\ud130 \\\\ud504\\\\ub860\\\\ud2b8  \\\\ubc24\\\\uc774 \\\\ub418\\\\uba74 \\\\ubc18\\\\uc9dd\\\\uc774\\\\ub294 \\\\ub124\\\\uc624 \\\\ub3c4\\\\ucfc4. \\\\uace0\\\\uce35 \\\\ube4c\\\\ub529\\\\uc774 \\\\ub298\\\\uc5b4\\\\uc11c\\\\uace0, \\\\ub124\\\\uc628\\\\uc0ac\\\\uc778\\\\uc774 \\\\uac70\\\\ub9ac\\\\ub97c \\\\uc218\\\\ub193\\\\ub294\\\\ub2e4. \\\\uadf8 \\\\uac70\\\\ub9ac\\\\uc5d0\\\\uc11c \\\\ube68\\\\uac04 \\\\ub450\\\\uac74\\\\uc744 \\\\uc4f4 \\\\uc18c\\\\ub140 \\\\ubbf8\\\\ucf54\\\\ub294 \\\\ubd88\\\\ubc95 \\\\ub370\\\\uc774\\\\ud130 \\\\uce74\\\\uc6b0\\\\ub9ac\\\\uc544\\\\ub97c \\\\uc6b4\\\\ubc18\\\\ud558\\\\ub294 \\\\ubc30\\\\ub2ec\\\\uc6d0\\\\uc73c\\\\ub85c \\\\uc77c\\\\ud558\\\\uace0 \\\\uc788\\\\uc5c8\\\\ub2e4. \\\\uadf8\\\\ub140\\\\ub294 \\\\uc5b4\\\\uba38\\\\ub2c8\\\\uac00 \\\\ubcd1\\\\uc5d0 \\\\uac78\\\\ub824 \\\\uce58\\\\ub8cc\\\\ube44\\\\ub97c \\\\ubc8c\\\\uae30 \\\\uc704\\\\ud574 \\\\ub370\\\\uc774\\\\ud130\\\\uce74\\\\uc6b0\\\\ub9ac\\\\uc544\\\\uc5d0 \\\\ubab8\\\\uc744 \\\\ub358\\\\uc9c0\\\\uace0 \\\\uc788\\\\uc5c8\\\\ub2e4.  \\\\uadf8\\\\ub7ec\\\\ub358 \\\\uc5b4\\\\ub290 \\\\ub0a0, \\\\ubbf8\\\\ucf54\\\\ub294 \\\\uc911\\\\uc694\\\\ud55c \\\\ub370\\\\uc774\\\\ud130\\\\ub97c \\\\uc6b4\\\\ubc18\\\\ud558\\\\ub294 \\\\uc784\\\\ubb34\\\\ub97c \\\\ub9e1\\\\uac8c \\\\ub41c\\\\ub2e4. \\\\uadf8 \\\\ub370\\\\uc774\\\\ud130\\\\uc5d0\\\\ub294 \\\\uac70\\\\ub300 \\\\uae30\\\\uc5c5 \\'\\\\uc6b8\\\\ud504 \\\\ucf54\\\\ud37c\\\\ub808\\\\uc774\\\\uc158\\'\\\\uc758 \\\\uc2dc\\\\ubbfc\\\\uc5d0 \\\\ub300\\\\ud55c \\\\uc545\\\\ub784\\\\ud55c \\\\uc9c0\\\\ubc30\\\\ub97c \\\\ud3ed\\\\ub85c\\\\ud558\\\\ub294 \\\\uc815\\\\ubcf4\\\\uac00 \\\\ub2f4\\\\uaca8 \\\\uc788\\\\uc5c8\\\\ub2e4. \\\\uadf8\\\\ub140\\\\ub294 \\\\ub370\\\\uc774\\\\ud130\\\\ub97c \\\\ubc1b\\\\uc544 \\\\ubaa9\\\\uc801\\\\uc9c0\\\\ub85c \\\\ud5a5\\\\ud55c\\\\ub2e4. \", \"\\\\uc81c2\\\\uc7a5: \\\\uc6b8\\\\ud504 \\\\ucf54\\\\ud37c\\\\ub808\\\\uc774\\\\uc158\\\\uc758 \\\\ud568\\\\uc815  \\\\ubbf8\\\\ucf54\\\\ub294 \\\\ubaa9\\\\uc801\\\\uc9c0\\\\uc778 \\\\uc220\\\\uc9d1 \\'\\\\ud560\\\\uba38\\\\ub2c8\\\\uc758 \\\\uc9d1\\'\\\\uc73c\\\\ub85c \\\\ud5a5\\\\ud558\\\\ub294 \\\\uae38\\\\uc5d0 \\\\uc6b8\\\\ud504 \\\\ucf54\\\\ud37c\\\\ub808\\\\uc774\\\\uc158\\\\uc758 \\\\uc694\\\\uc6d0\\\\ub4e4\\\\uc5d0\\\\uac8c \\\\ucad3\\\\uae30\\\\uac8c \\\\ub41c\\\\ub2e4. \\\\uadf8\\\\ub4e4\\\\uc740 \\'\\\\ube68\\\\uac04 \\\\ub9dd\\\\ud1a0\\'\\\\ub77c\\\\ub294 \\\\ub370\\\\uc774\\\\ud130 \\\\uce74\\\\uc6b0\\\\ub9ac\\\\uc544\\\\uc5d0 \\\\ub300\\\\ud55c \\\\uc18c\\\\ubb38\\\\uc744 \\\\ub4e3\\\\uace0 \\\\ub370\\\\uc774\\\\ud130\\\\ub97c \\\\ud0c8\\\\ucde8\\\\ud558\\\\ub824 \\\\ud588\\\\ub2e4. \\\\ubbf8\\\\ucf54\\\\ub294 \\\\uad50\\\\ubb18\\\\ud558\\\\uac8c \\\\uc694\\\\uc6d0\\\\ub4e4\\\\uc744 \\\\ud769\\\\ubfcc\\\\ub9ac\\\\uace0 \\\\uc220\\\\uc9d1\\\\uc5d0 \\\\ub3c4\\\\ucc29\\\\ud55c\\\\ub2e4. \", \"\\\\uc81c3\\\\uc7a5: \\\\ubc30\\\\uc2e0\\\\uacfc \\\\uc7ac\\\\ud68c  \\\\uc220\\\\uc9d1 \\'\\\\ud560\\\\uba38\\\\ub2c8\\\\uc758 \\\\uc9d1\\'\\\\uc5d0\\\\uc11c \\\\ubbf8\\\\ucf54\\\\ub294 \\\\ub370\\\\uc774\\\\ud130\\\\ub97c \\\\ubc1b\\\\uc744 \\\\uc0ac\\\\ub78c\\\\uc778 \\\\ub8cc\\\\ub97c \\\\uae30\\\\ub2e4\\\\ub9ac\\\\uace0 \\\\uc788\\\\uc5c8\\\\ub2e4. \\\\ub8cc\\\\ub294 \\\\uadf8\\\\ub140\\\\uc758 \\\\uc5b4\\\\ub9b4 \\\\uc801 \\\\uce5c\\\\uad6c\\\\uc774\\\\uc790 \\\\uadf8 \\\\uc5ed\\\\uc2dc \\\\uc6b8\\\\ud504 \\\\ucf54\\\\ud37c\\\\ub808\\\\uc774\\\\uc158\\\\uacfc \\\\uc2f8\\\\uc6b0\\\\ub294 \\\\ud574\\\\ucee4 \\\\uc9d1\\\\ub2e8\\\\uc758 \\\\uc77c\\\\uc6d0\\\\uc774\\\\uc5c8\\\\ub2e4. \\\\ud558\\\\uc9c0\\\\ub9cc \\\\ub8cc\\\\ub294 \\\\ubbf8\\\\ucf54\\\\uc5d0\\\\uac8c \\\\ubc30\\\\uc2e0\\\\uac10\\\\uc744 \\\\ub290\\\\uaf08\\\\uace0, \\\\uadf8\\\\ub140\\\\uac00 \\\\ub370\\\\uc774\\\\ud130 \\\\uce74\\\\uc6b0\\\\ub9ac\\\\uc544\\\\uc5d0 \\\\ubab8\\\\uc744 \\\\ub358\\\\uc9c4 \\\\uac83\\\\uc5d0 \\\\ud654\\\\uac00 \\\\ub0ac\\\\ub2e4.  \\\\uadf8\\\\ub7fc\\\\uc5d0\\\\ub3c4 \\\\ubd88\\\\uad6c\\\\ud558\\\\uace0 \\\\ubbf8\\\\ucf54\\\\ub294 \\\\ub8cc\\\\uc5d0\\\\uac8c \\\\ub370\\\\uc774\\\\ud130\\\\ub97c \\\\uac74\\\\ub124\\\\uba70 \\\\uc6b8\\\\ud504 \\\\ucf54\\\\ud37c\\\\ub808\\\\uc774\\\\uc158\\\\uc5d0 \\\\ub300\\\\ud55c \\\\ubc18\\\\uaca9\\\\uc744 \\\\ubbff\\\\uae30\\\\ub85c \\\\ud55c\\\\ub2e4. \\\\ub450 \\\\uc0ac\\\\ub78c\\\\uc740 \\\\ud568\\\\uaed8 \\\\uc6b8\\\\ud504 \\\\ucf54\\\\ud37c\\\\ub808\\\\uc774\\\\uc158\\\\uc758 \\\\uc74c\\\\ubaa8\\\\ub97c \\\\ubc1d\\\\ud600\\\\ub0b4\\\\uace0 \\\\uc2dc\\\\ubbfc\\\\ub4e4\\\\uc744 \\\\uad6c\\\\ud558\\\\uae30\\\\ub85c \\\\uacb0\\\\uc2ec\\\\ud55c\\\\ub2e4. \", \"\\\\uc81c4\\\\uc7a5: \\\\uc6b8\\\\ud504 \\\\ucf54\\\\ud37c\\\\ub808\\\\uc774\\\\uc158\\\\uc758 \\\\ubd95\\\\uad34  \\\\ubbf8\\\\ucf54\\\\uc640 \\\\ub8cc\\\\ub294 \\\\ud574\\\\ucee4 \\\\uc9d1\\\\ub2e8\\\\uacfc \\\\ud568\\\\uaed8 \\\\uc6b8\\\\ud504 \\\\ucf54\\\\ud37c\\\\ub808\\\\uc774\\\\uc158\\\\uc5d0 \\\\ub300\\\\ud55c \\\\ucd5c\\\\ud6c4\\\\uc758 \\\\uacb0\\\\uc804\\\\uc744 \\\\ubc8c\\\\uc778\\\\ub2e4. \\\\ub2a5\\\\uc219\\\\ud55c \\\\ud574\\\\ud0b9 \\\\uae30\\\\uc220\\\\uacfc \\\\uc2e0\\\\uccb4 \\\\ub2a5\\\\ub825\\\\uc73c\\\\ub85c \\\\uadf8\\\\ub4e4\\\\uc740 \\\\uc6b8\\\\ud504 \\\\ucf54\\\\ud37c\\\\ub808\\\\uc774\\\\uc158\\\\uc758 \\\\ubcf4\\\\uc548\\\\uc744 \\\\ucc28\\\\ub840\\\\ub85c \\\\ub6ab\\\\uc5b4 \\\\ub098\\\\uac04\\\\ub2e4. \\\\uadf8 \\\\uacfc\\\\uc815\\\\uc5d0\\\\uc11c \\\\ubbf8\\\\ucf54\\\\ub294 \\\\uc6b8\\\\ud504 \\\\ucf54\\\\ud37c\\\\ub808\\\\uc774\\\\uc158\\\\uc774 \\\\uc5b4\\\\uba38\\\\ub2c8\\\\uc758 \\\\ubcd1\\\\uc5d0 \\\\uad00\\\\uc5ec\\\\ud558\\\\uace0 \\\\uc788\\\\ub2e4\\\\ub294 \\\\uc0ac\\\\uc2e4\\\\uc744 \\\\uc54c\\\\uac8c \\\\ub41c\\\\ub2e4. \\\\uadf8\\\\ub140\\\\ub294 \\\\ubd84\\\\ub178\\\\uc5d0 \\\\ud729\\\\uc2f8\\\\uc5ec \\\\uc6b8\\\\ud504\\\\ucf54\\\\ud37c\\\\ub808\\\\uc774\\\\uc158\\\\uc5d0 \\\\ub300\\\\ud55c \\\\ubcf5\\\\uc218\\\\ub97c \\\\ub2e4\\\\uc9d0\\\\ud55c\\\\ub2e4. \", \"\\\\uc81c5\\\\uc7a5: \\\\uacb0\\\\uc804\\\\uc758 \\\\uc21c\\\\uac04  \\\\ubbf8\\\\ucf54\\\\uc640 \\\\ub8cc\\\\ub294 \\\\ub9c8\\\\uce68\\\\ub0b4 \\\\uc6b8\\\\ud504 \\\\ucf54\\\\ud37c\\\\ub808\\\\uc774\\\\uc158\\\\uc758 \\\\ucd5c\\\\uc0c1\\\\uce35\\\\uc5d0 \\\\ub3c4\\\\ucc29\\\\ud574 CEO\\\\uc778 \\\\uad50\\\\ud65c\\\\ud55c \\\\uc6b8\\\\ud504 \\\\ubc15\\\\uc0ac\\\\uc640 \\\\ub300\\\\uba74\\\\ud55c\\\\ub2e4. \\\\uc6b8\\\\ud504 \\\\ubc15\\\\uc0ac\\\\ub294 \\\\uc2dc\\\\ubbfc\\\\uc744 \\\\uc9c0\\\\ubc30\\\\ud558\\\\ub824\\\\ub294 \\\\uc0ac\\\\uc545\\\\ud55c \\\\uc57c\\\\ub9dd\\\\uc744 \\\\ub4dc\\\\ub7ec\\\\ub0b4\\\\uba70 \\\\uc790\\\\uc2e0\\\\uc758 \\\\uc555\\\\ub3c4\\\\uc801\\\\uc778 \\\\ud798\\\\uc744 \\\\uacfc\\\\uc2dc\\\\ud55c\\\\ub2e4. \\\\ud558\\\\uc9c0\\\\ub9cc \\\\ubbf8\\\\ucf54\\\\uc640 \\\\ub8cc\\\\ub294 \\\\uc11c\\\\ub85c\\\\ub97c \\\\ub3c4\\\\uc640\\\\uac00\\\\uba70 \\\\uc6b8\\\\ud504 \\\\ubc15\\\\uc0ac\\\\uc640 \\\\uc2f8\\\\uc6b0\\\\uace0 \\\\uadf8\\\\uc758 \\\\uc57d\\\\uc810\\\\uc744 \\\\ucc3e\\\\uc544\\\\ub0b8\\\\ub2e4. \", \"\\\\uc81c6\\\\uc7a5: \\\\uc9c4\\\\uc2e4\\\\uc758 \\\\ud574\\\\ubc29  \\\\ubbf8\\\\ucf54\\\\ub294 \\\\uc6b8\\\\ud504 \\\\ubc15\\\\uc0ac\\\\uc758 \\\\uc57d\\\\uc810\\\\uc744 \\\\ud30c\\\\uace0\\\\ub4e4\\\\uc5b4 \\\\uadf8\\\\ub97c \\\\uc4f0\\\\ub7ec\\\\ub728\\\\ub9ac\\\\ub294\\\\ub370 \\\\uc131\\\\uacf5\\\\ud55c\\\\ub2e4. \\\\uadf8\\\\ub9ac\\\\uace0 \\\\ud574\\\\ucee4 \\\\uc9d1\\\\ub2e8\\\\uacfc \\\\ud568\\\\uaed8 \\\\uc6b8\\\\ud504 \\\\ucf54\\\\ud37c\\\\ub808\\\\uc774\\\\uc158\\\\uc758 \\\\uc545\\\\ud589\\\\uc744 \\\\uc138\\\\uc0c1\\\\uc5d0 \\\\uacf5\\\\uac1c\\\\ud558\\\\uace0 \\\\uc2dc\\\\ubbfc\\\\ub4e4\\\\uc744 \\\\ud574\\\\ubc29\\\\uc2dc\\\\ud0a8\\\\ub2e4. \\\\uc774 \\\\uc2b9\\\\ub9ac\\\\ub85c \\\\ubbf8\\\\ucf54\\\\uc758 \\\\uc5b4\\\\uba38\\\\ub2c8\\\\uc758 \\\\uce58\\\\ub8cc\\\\ubc95\\\\ub3c4 \\\\ucc3e\\\\uc544\\\\ub0b4\\\\uace0, \\\\uadf8\\\\ub140\\\\uc758 \\\\ubcd1\\\\uc740 \\\\uc644\\\\uce58\\\\ub41c\\\\ub2e4. \", \"\\\\uc81c7\\\\uc7a5: \\\\uc0c8\\\\ub85c\\\\uc6b4 \\\\uc2dc\\\\uc791  \\\\uc6b8\\\\ud504 \\\\ucf54\\\\ud37c\\\\ub808\\\\uc774\\\\uc158\\\\uc774 \\\\ubb34\\\\ub108\\\\uc9c4 \\\\ud6c4, \\\\ubbf8\\\\ucf54\\\\uc640 \\\\ub8cc\\\\ub294 \\\\uc11c\\\\ub85c\\\\uc758 \\\\uacfc\\\\uac70\\\\ub97c \\\\uc6a9\\\\uc11c\\\\ud558\\\\uace0 \\\\ub2e4\\\\uc2dc \\\\uc6b0\\\\uc815\\\\uc744 \\\\ud68c\\\\ubcf5\\\\ud55c\\\\ub2e4. \\\\ubbf8\\\\ucf54\\\\ub294 \\\\ub370\\\\uc774\\\\ud130\\\\uce74\\\\uc6b0\\\\ub9ac\\\\uc544\\\\ub97c \\\\uadf8\\\\ub9cc\\\\ub450\\\\uace0 \\\\ub8cc\\\\uc640 \\\\ud568\\\\uaed8 \\\\uc0c8\\\\ub85c\\\\uc6b4 \\\\uae38\\\\uc744 \\\\uac77\\\\uae30 \\\\uc2dc\\\\uc791\\\\ud55c\\\\ub2e4. \\\\uadf8\\\\ub4e4\\\\uc740 \\\\uc2a4\\\\uc2a4\\\\ub85c\\\\uc758 \\\\ud798\\\\uc73c\\\\ub85c \\\\ubbf8\\\\ub798\\\\uc758 \\\\ub124\\\\uc624 \\\\ub3c4\\\\ucfc4\\\\ub97c \\\\ub354 \\\\ub098\\\\uc740 \\\\ub3c4\\\\uc2dc\\\\ub85c \\\\ubc14\\\\uafb8\\\\uc5b4 \\\\ub098\\\\uac08 \\\\uac83\\\\uc744 \\\\ub2e4\\\\uc9d0\\\\ud55c\\\\ub2e4. \\\\uc774\\\\uac83\\\\uc740 \\\\ubbf8\\\\ucf54\\\\uc640 \\\\ub8cc, \\\\uadf8\\\\ub9ac\\\\uace0 \\\\uc804\\\\ub1cc \\\\ube68\\\\uac04 \\\\ub9dd\\\\ud1a0\\\\uc758 \\\\uc0c8\\\\ub85c\\\\uc6b4 \\\\ubaa8\\\\ud5d8\\\\uc758 \\\\uc2dc\\\\uc791\\\\uc774\\\\uc5c8\\\\ub2e4. \"], \"model\": \"text-embedding-ada-002\", \"encoding_format\": \"base64\"}' message='Post details'\n",
            "DEBUG:urllib3.util.retry:Converted retries value: 2 -> Retry(total=2, connect=None, read=None, redirect=None, status=None)\n",
            "DEBUG:urllib3.connectionpool:Starting new HTTPS connection (1): api.openai.com:443\n",
            "DEBUG:urllib3.connectionpool:https://api.openai.com:443 \"POST /v1/embeddings HTTP/1.1\" 200 None\n",
            "DEBUG:openai:message='OpenAI API response' path=https://api.openai.com/v1/embeddings processing_ms=42 request_id=req_2d391349669f8a839b9651a62e3391ed response_code=200\n",
            "INFO:llama_index.token_counter.token_counter:> [build_index_from_nodes] Total LLM token usage: 0 tokens\n",
            "INFO:llama_index.token_counter.token_counter:> [build_index_from_nodes] Total embedding token usage: 2888 tokens\n"
          ]
        }
      ],
      "source": [
        "from llama_index import GPTVectorStoreIndex, ServiceContext, LLMPredictor\n",
        "from langchain.chat_models import ChatOpenAI\n",
        "\n",
        "# LLMPredictor 준비\n",
        "llm_predictor = LLMPredictor(llm=ChatOpenAI(\n",
        "    temperature=0, # 온도\n",
        "    model_name=\"gpt-3.5-turbo\" # 모델명\n",
        "))\n",
        "\n",
        "# ServiceContext 준비\n",
        "service_context = ServiceContext.from_defaults(\n",
        "    llm_predictor=llm_predictor,\n",
        ")\n",
        "\n",
        "# 인덱스 생성\n",
        "index = GPTVectorStoreIndex.from_documents(\n",
        "    documents,\n",
        "    service_context=service_context,\n",
        ")"
      ]
    },
    {
      "cell_type": "code",
      "execution_count": 8,
      "metadata": {
        "id": "TTX6ynPTHjyi"
      },
      "outputs": [],
      "source": [
        "# 쿼리 엔진 생성\n",
        "query_engine = index.as_query_engine()"
      ]
    },
    {
      "cell_type": "code",
      "execution_count": 9,
      "metadata": {
        "colab": {
          "base_uri": "https://localhost:8080/"
        },
        "id": "09NOHlmCpsUQ",
        "outputId": "041ef33f-f301-4143-8720-0653d4fce3cb"
      },
      "outputs": [
        {
          "name": "stdout",
          "output_type": "stream",
          "text": [
            "DEBUG:openai:message='Request to OpenAI API' method=post path=https://api.openai.com/v1/embeddings\n",
            "DEBUG:openai:api_version=None data='{\"input\": [\"\\\\ubbf8\\\\ucf54\\\\uc758 \\\\uc18c\\\\uafc9\\\\uce5c\\\\uad6c \\\\uc774\\\\ub984\\\\uc740?\"], \"model\": \"text-embedding-ada-002\", \"encoding_format\": \"base64\"}' message='Post details'\n",
            "DEBUG:urllib3.connectionpool:https://api.openai.com:443 \"POST /v1/embeddings HTTP/1.1\" 200 None\n",
            "DEBUG:openai:message='OpenAI API response' path=https://api.openai.com/v1/embeddings processing_ms=20 request_id=req_9920d1ff1dbc3f104f68975083cad336 response_code=200\n",
            "DEBUG:llama_index.indices.utils:> Top 2 nodes:\n",
            "> [Node 80056819-8cbf-4125-ba3b-1dad88a5a86b] [Similarity score:             0.832094] 제5장: 결전의 순간\n",
            "\n",
            "미코와 료는 마침내 울프 코퍼레이션의 최상층에 도착해 CEO인 교활한 울프 박사와 대면한다. 울프 박사는 시민을 지배하려는 사악한 야망을 드러내며 자신...\n",
            "> [Node fd6816a0-3273-49a2-aa24-0e8162be568d] [Similarity score:             0.828235] 제3장: 배신과 재회\n",
            "\n",
            "술집 '할머니의 집'에서 미코는 데이터를 받을 사람인 료를 기다리고 있었다. 료는 그녀의 어릴 적 친구이자 그 역시 울프 코퍼레이션과 싸우는 해커 집단...\n",
            "INFO:llama_index.token_counter.token_counter:> [retrieve] Total LLM token usage: 0 tokens\n",
            "INFO:llama_index.token_counter.token_counter:> [retrieve] Total embedding token usage: 29 tokens\n",
            "DEBUG:openai:message='Request to OpenAI API' method=post path=https://api.openai.com/v1/chat/completions\n",
            "DEBUG:openai:api_version=None data='{\"messages\": [{\"role\": \"user\", \"content\": \"Context information is below. \\\\n---------------------\\\\n\\\\uc81c5\\\\uc7a5: \\\\uacb0\\\\uc804\\\\uc758 \\\\uc21c\\\\uac04\\\\n\\\\n\\\\ubbf8\\\\ucf54\\\\uc640 \\\\ub8cc\\\\ub294 \\\\ub9c8\\\\uce68\\\\ub0b4 \\\\uc6b8\\\\ud504 \\\\ucf54\\\\ud37c\\\\ub808\\\\uc774\\\\uc158\\\\uc758 \\\\ucd5c\\\\uc0c1\\\\uce35\\\\uc5d0 \\\\ub3c4\\\\ucc29\\\\ud574 CEO\\\\uc778 \\\\uad50\\\\ud65c\\\\ud55c \\\\uc6b8\\\\ud504 \\\\ubc15\\\\uc0ac\\\\uc640 \\\\ub300\\\\uba74\\\\ud55c\\\\ub2e4. \\\\uc6b8\\\\ud504 \\\\ubc15\\\\uc0ac\\\\ub294 \\\\uc2dc\\\\ubbfc\\\\uc744 \\\\uc9c0\\\\ubc30\\\\ud558\\\\ub824\\\\ub294 \\\\uc0ac\\\\uc545\\\\ud55c \\\\uc57c\\\\ub9dd\\\\uc744 \\\\ub4dc\\\\ub7ec\\\\ub0b4\\\\uba70 \\\\uc790\\\\uc2e0\\\\uc758 \\\\uc555\\\\ub3c4\\\\uc801\\\\uc778 \\\\ud798\\\\uc744 \\\\uacfc\\\\uc2dc\\\\ud55c\\\\ub2e4. \\\\ud558\\\\uc9c0\\\\ub9cc \\\\ubbf8\\\\ucf54\\\\uc640 \\\\ub8cc\\\\ub294 \\\\uc11c\\\\ub85c\\\\ub97c \\\\ub3c4\\\\uc640\\\\uac00\\\\uba70 \\\\uc6b8\\\\ud504 \\\\ubc15\\\\uc0ac\\\\uc640 \\\\uc2f8\\\\uc6b0\\\\uace0 \\\\uadf8\\\\uc758 \\\\uc57d\\\\uc810\\\\uc744 \\\\ucc3e\\\\uc544\\\\ub0b8\\\\ub2e4.\\\\n\\\\n\\\\uc81c3\\\\uc7a5: \\\\ubc30\\\\uc2e0\\\\uacfc \\\\uc7ac\\\\ud68c\\\\n\\\\n\\\\uc220\\\\uc9d1 \\'\\\\ud560\\\\uba38\\\\ub2c8\\\\uc758 \\\\uc9d1\\'\\\\uc5d0\\\\uc11c \\\\ubbf8\\\\ucf54\\\\ub294 \\\\ub370\\\\uc774\\\\ud130\\\\ub97c \\\\ubc1b\\\\uc744 \\\\uc0ac\\\\ub78c\\\\uc778 \\\\ub8cc\\\\ub97c \\\\uae30\\\\ub2e4\\\\ub9ac\\\\uace0 \\\\uc788\\\\uc5c8\\\\ub2e4. \\\\ub8cc\\\\ub294 \\\\uadf8\\\\ub140\\\\uc758 \\\\uc5b4\\\\ub9b4 \\\\uc801 \\\\uce5c\\\\uad6c\\\\uc774\\\\uc790 \\\\uadf8 \\\\uc5ed\\\\uc2dc \\\\uc6b8\\\\ud504 \\\\ucf54\\\\ud37c\\\\ub808\\\\uc774\\\\uc158\\\\uacfc \\\\uc2f8\\\\uc6b0\\\\ub294 \\\\ud574\\\\ucee4 \\\\uc9d1\\\\ub2e8\\\\uc758 \\\\uc77c\\\\uc6d0\\\\uc774\\\\uc5c8\\\\ub2e4. \\\\ud558\\\\uc9c0\\\\ub9cc \\\\ub8cc\\\\ub294 \\\\ubbf8\\\\ucf54\\\\uc5d0\\\\uac8c \\\\ubc30\\\\uc2e0\\\\uac10\\\\uc744 \\\\ub290\\\\uaf08\\\\uace0, \\\\uadf8\\\\ub140\\\\uac00 \\\\ub370\\\\uc774\\\\ud130 \\\\uce74\\\\uc6b0\\\\ub9ac\\\\uc544\\\\uc5d0 \\\\ubab8\\\\uc744 \\\\ub358\\\\uc9c4 \\\\uac83\\\\uc5d0 \\\\ud654\\\\uac00 \\\\ub0ac\\\\ub2e4.\\\\n\\\\n\\\\uadf8\\\\ub7fc\\\\uc5d0\\\\ub3c4 \\\\ubd88\\\\uad6c\\\\ud558\\\\uace0 \\\\ubbf8\\\\ucf54\\\\ub294 \\\\ub8cc\\\\uc5d0\\\\uac8c \\\\ub370\\\\uc774\\\\ud130\\\\ub97c \\\\uac74\\\\ub124\\\\uba70 \\\\uc6b8\\\\ud504 \\\\ucf54\\\\ud37c\\\\ub808\\\\uc774\\\\uc158\\\\uc5d0 \\\\ub300\\\\ud55c \\\\ubc18\\\\uaca9\\\\uc744 \\\\ubbff\\\\uae30\\\\ub85c \\\\ud55c\\\\ub2e4. \\\\ub450 \\\\uc0ac\\\\ub78c\\\\uc740 \\\\ud568\\\\uaed8 \\\\uc6b8\\\\ud504 \\\\ucf54\\\\ud37c\\\\ub808\\\\uc774\\\\uc158\\\\uc758 \\\\uc74c\\\\ubaa8\\\\ub97c \\\\ubc1d\\\\ud600\\\\ub0b4\\\\uace0 \\\\uc2dc\\\\ubbfc\\\\ub4e4\\\\uc744 \\\\uad6c\\\\ud558\\\\uae30\\\\ub85c \\\\uacb0\\\\uc2ec\\\\ud55c\\\\ub2e4.\\\\n---------------------\\\\nGiven the context information and not prior knowledge, answer the question: \\\\ubbf8\\\\ucf54\\\\uc758 \\\\uc18c\\\\uafc9\\\\uce5c\\\\uad6c \\\\uc774\\\\ub984\\\\uc740?\\\\n\"}], \"model\": \"gpt-3.5-turbo\", \"max_tokens\": null, \"stream\": false, \"n\": 1, \"temperature\": 0.0}' message='Post details'\n",
            "DEBUG:urllib3.connectionpool:https://api.openai.com:443 \"POST /v1/chat/completions HTTP/1.1\" 200 None\n",
            "DEBUG:openai:message='OpenAI API response' path=https://api.openai.com/v1/chat/completions processing_ms=508 request_id=req_5991b919fae07de9456317b1dda5e128 response_code=200\n",
            "DEBUG:llama_index.llm_predictor.base:미코의 소꿉친구 이름은 료입니다.\n",
            "DEBUG:llama_index.indices.response.base_builder:> Initial prompt template: Context information is below. \n",
            "---------------------\n",
            "제5장: 결전의 순간\n",
            "\n",
            "미코와 료는 마침내 울프 코퍼레이션의 최상층에 도착해 CEO인 교활한 울프 박사와 대면한다. 울프 박사는 시민을 지배하려는 사악한 야망을 드러내며 자신의 압도적인 힘을 과시한다. 하지만 미코와 료는 서로를 도와가며 울프 박사와 싸우고 그의 약점을 찾아낸다.\n",
            "\n",
            "제3장: 배신과 재회\n",
            "\n",
            "술집 '할머니의 집'에서 미코는 데이터를 받을 사람인 료를 기다리고 있었다. 료는 그녀의 어릴 적 친구이자 그 역시 울프 코퍼레이션과 싸우는 해커 집단의 일원이었다. 하지만 료는 미코에게 배신감을 느꼈고, 그녀가 데이터 카우리아에 몸을 던진 것에 화가 났다.\n",
            "\n",
            "그럼에도 불구하고 미코는 료에게 데이터를 건네며 울프 코퍼레이션에 대한 반격을 믿기로 한다. 두 사람은 함께 울프 코퍼레이션의 음모를 밝혀내고 시민들을 구하기로 결심한다.\n",
            "---------------------\n",
            "Given the context information and not prior knowledge, answer the question: 미코의 소꿉친구 이름은?\n",
            "\n",
            "DEBUG:llama_index.indices.response.base_builder:> Initial response: 미코의 소꿉친구 이름은 료입니다.\n",
            "INFO:llama_index.token_counter.token_counter:> [get_response] Total LLM token usage: 954 tokens\n",
            "INFO:llama_index.token_counter.token_counter:> [get_response] Total embedding token usage: 0 tokens\n",
            "미코의 소꿉친구 이름은 료입니다.\n"
          ]
        }
      ],
      "source": [
        "# 질의응답\n",
        "print(query_engine.query(\"미코의 소꿉친구 이름은?\"))"
      ]
    },
    {
      "cell_type": "code",
      "execution_count": 10,
      "metadata": {
        "colab": {
          "base_uri": "https://localhost:8080/"
        },
        "id": "gnQm771_sUK0",
        "outputId": "241e1564-ac67-45d9-c756-b5a9355004af"
      },
      "outputs": [
        {
          "name": "stdout",
          "output_type": "stream",
          "text": [
            "DEBUG:openai:message='Request to OpenAI API' method=post path=https://api.openai.com/v1/embeddings\n",
            "DEBUG:openai:api_version=None data='{\"input\": [\"\\\\uc6b8\\\\ud504 \\\\ucf54\\\\ud37c\\\\ub808\\\\uc774\\\\uc158\\\\uc758 CEO\\\\uc758 \\\\uc774\\\\ub984\\\\uc740?\"], \"model\": \"text-embedding-ada-002\", \"encoding_format\": \"base64\"}' message='Post details'\n",
            "DEBUG:urllib3.connectionpool:https://api.openai.com:443 \"POST /v1/embeddings HTTP/1.1\" 200 None\n",
            "DEBUG:openai:message='OpenAI API response' path=https://api.openai.com/v1/embeddings processing_ms=31 request_id=req_c4981730b024b3bbb7f5f6cc492bc747 response_code=200\n",
            "DEBUG:llama_index.indices.utils:> Top 2 nodes:\n",
            "> [Node 80056819-8cbf-4125-ba3b-1dad88a5a86b] [Similarity score:             0.859243] 제5장: 결전의 순간\n",
            "\n",
            "미코와 료는 마침내 울프 코퍼레이션의 최상층에 도착해 CEO인 교활한 울프 박사와 대면한다. 울프 박사는 시민을 지배하려는 사악한 야망을 드러내며 자신...\n",
            "> [Node d23aa09d-4a83-4916-9c10-19704303b507] [Similarity score:             0.832126] 제7장: 새로운 시작\n",
            "\n",
            "울프 코퍼레이션이 무너진 후, 미코와 료는 서로의 과거를 용서하고 다시 우정을 회복한다. 미코는 데이터카우리아를 그만두고 료와 함께 새로운 길을 걷기 ...\n",
            "INFO:llama_index.token_counter.token_counter:> [retrieve] Total LLM token usage: 0 tokens\n",
            "INFO:llama_index.token_counter.token_counter:> [retrieve] Total embedding token usage: 34 tokens\n",
            "DEBUG:openai:message='Request to OpenAI API' method=post path=https://api.openai.com/v1/chat/completions\n",
            "DEBUG:openai:api_version=None data='{\"messages\": [{\"role\": \"user\", \"content\": \"Context information is below. \\\\n---------------------\\\\n\\\\uc81c5\\\\uc7a5: \\\\uacb0\\\\uc804\\\\uc758 \\\\uc21c\\\\uac04\\\\n\\\\n\\\\ubbf8\\\\ucf54\\\\uc640 \\\\ub8cc\\\\ub294 \\\\ub9c8\\\\uce68\\\\ub0b4 \\\\uc6b8\\\\ud504 \\\\ucf54\\\\ud37c\\\\ub808\\\\uc774\\\\uc158\\\\uc758 \\\\ucd5c\\\\uc0c1\\\\uce35\\\\uc5d0 \\\\ub3c4\\\\ucc29\\\\ud574 CEO\\\\uc778 \\\\uad50\\\\ud65c\\\\ud55c \\\\uc6b8\\\\ud504 \\\\ubc15\\\\uc0ac\\\\uc640 \\\\ub300\\\\uba74\\\\ud55c\\\\ub2e4. \\\\uc6b8\\\\ud504 \\\\ubc15\\\\uc0ac\\\\ub294 \\\\uc2dc\\\\ubbfc\\\\uc744 \\\\uc9c0\\\\ubc30\\\\ud558\\\\ub824\\\\ub294 \\\\uc0ac\\\\uc545\\\\ud55c \\\\uc57c\\\\ub9dd\\\\uc744 \\\\ub4dc\\\\ub7ec\\\\ub0b4\\\\uba70 \\\\uc790\\\\uc2e0\\\\uc758 \\\\uc555\\\\ub3c4\\\\uc801\\\\uc778 \\\\ud798\\\\uc744 \\\\uacfc\\\\uc2dc\\\\ud55c\\\\ub2e4. \\\\ud558\\\\uc9c0\\\\ub9cc \\\\ubbf8\\\\ucf54\\\\uc640 \\\\ub8cc\\\\ub294 \\\\uc11c\\\\ub85c\\\\ub97c \\\\ub3c4\\\\uc640\\\\uac00\\\\uba70 \\\\uc6b8\\\\ud504 \\\\ubc15\\\\uc0ac\\\\uc640 \\\\uc2f8\\\\uc6b0\\\\uace0 \\\\uadf8\\\\uc758 \\\\uc57d\\\\uc810\\\\uc744 \\\\ucc3e\\\\uc544\\\\ub0b8\\\\ub2e4.\\\\n\\\\n\\\\uc81c7\\\\uc7a5: \\\\uc0c8\\\\ub85c\\\\uc6b4 \\\\uc2dc\\\\uc791\\\\n\\\\n\\\\uc6b8\\\\ud504 \\\\ucf54\\\\ud37c\\\\ub808\\\\uc774\\\\uc158\\\\uc774 \\\\ubb34\\\\ub108\\\\uc9c4 \\\\ud6c4, \\\\ubbf8\\\\ucf54\\\\uc640 \\\\ub8cc\\\\ub294 \\\\uc11c\\\\ub85c\\\\uc758 \\\\uacfc\\\\uac70\\\\ub97c \\\\uc6a9\\\\uc11c\\\\ud558\\\\uace0 \\\\ub2e4\\\\uc2dc \\\\uc6b0\\\\uc815\\\\uc744 \\\\ud68c\\\\ubcf5\\\\ud55c\\\\ub2e4. \\\\ubbf8\\\\ucf54\\\\ub294 \\\\ub370\\\\uc774\\\\ud130\\\\uce74\\\\uc6b0\\\\ub9ac\\\\uc544\\\\ub97c \\\\uadf8\\\\ub9cc\\\\ub450\\\\uace0 \\\\ub8cc\\\\uc640 \\\\ud568\\\\uaed8 \\\\uc0c8\\\\ub85c\\\\uc6b4 \\\\uae38\\\\uc744 \\\\uac77\\\\uae30 \\\\uc2dc\\\\uc791\\\\ud55c\\\\ub2e4. \\\\uadf8\\\\ub4e4\\\\uc740 \\\\uc2a4\\\\uc2a4\\\\ub85c\\\\uc758 \\\\ud798\\\\uc73c\\\\ub85c \\\\ubbf8\\\\ub798\\\\uc758 \\\\ub124\\\\uc624 \\\\ub3c4\\\\ucfc4\\\\ub97c \\\\ub354 \\\\ub098\\\\uc740 \\\\ub3c4\\\\uc2dc\\\\ub85c \\\\ubc14\\\\uafb8\\\\uc5b4 \\\\ub098\\\\uac08 \\\\uac83\\\\uc744 \\\\ub2e4\\\\uc9d0\\\\ud55c\\\\ub2e4. \\\\uc774\\\\uac83\\\\uc740 \\\\ubbf8\\\\ucf54\\\\uc640 \\\\ub8cc, \\\\uadf8\\\\ub9ac\\\\uace0 \\\\uc804\\\\ub1cc \\\\ube68\\\\uac04 \\\\ub9dd\\\\ud1a0\\\\uc758 \\\\uc0c8\\\\ub85c\\\\uc6b4 \\\\ubaa8\\\\ud5d8\\\\uc758 \\\\uc2dc\\\\uc791\\\\uc774\\\\uc5c8\\\\ub2e4.\\\\n---------------------\\\\nGiven the context information and not prior knowledge, answer the question: \\\\uc6b8\\\\ud504 \\\\ucf54\\\\ud37c\\\\ub808\\\\uc774\\\\uc158\\\\uc758 CEO\\\\uc758 \\\\uc774\\\\ub984\\\\uc740?\\\\n\"}], \"model\": \"gpt-3.5-turbo\", \"max_tokens\": null, \"stream\": false, \"n\": 1, \"temperature\": 0.0}' message='Post details'\n",
            "DEBUG:urllib3.connectionpool:https://api.openai.com:443 \"POST /v1/chat/completions HTTP/1.1\" 200 None\n",
            "DEBUG:openai:message='OpenAI API response' path=https://api.openai.com/v1/chat/completions processing_ms=542 request_id=req_a106ca23659af256b65e656000a9e347 response_code=200\n",
            "DEBUG:llama_index.llm_predictor.base:울프 코퍼레이션의 CEO의 이름은 울프 박사이다.\n",
            "DEBUG:llama_index.indices.response.base_builder:> Initial prompt template: Context information is below. \n",
            "---------------------\n",
            "제5장: 결전의 순간\n",
            "\n",
            "미코와 료는 마침내 울프 코퍼레이션의 최상층에 도착해 CEO인 교활한 울프 박사와 대면한다. 울프 박사는 시민을 지배하려는 사악한 야망을 드러내며 자신의 압도적인 힘을 과시한다. 하지만 미코와 료는 서로를 도와가며 울프 박사와 싸우고 그의 약점을 찾아낸다.\n",
            "\n",
            "제7장: 새로운 시작\n",
            "\n",
            "울프 코퍼레이션이 무너진 후, 미코와 료는 서로의 과거를 용서하고 다시 우정을 회복한다. 미코는 데이터카우리아를 그만두고 료와 함께 새로운 길을 걷기 시작한다. 그들은 스스로의 힘으로 미래의 네오 도쿄를 더 나은 도시로 바꾸어 나갈 것을 다짐한다. 이것은 미코와 료, 그리고 전뇌 빨간 망토의 새로운 모험의 시작이었다.\n",
            "---------------------\n",
            "Given the context information and not prior knowledge, answer the question: 울프 코퍼레이션의 CEO의 이름은?\n",
            "\n",
            "DEBUG:llama_index.indices.response.base_builder:> Initial response: 울프 코퍼레이션의 CEO의 이름은 울프 박사이다.\n",
            "INFO:llama_index.token_counter.token_counter:> [get_response] Total LLM token usage: 840 tokens\n",
            "INFO:llama_index.token_counter.token_counter:> [get_response] Total embedding token usage: 0 tokens\n",
            "울프 코퍼레이션의 CEO의 이름은 울프 박사이다.\n"
          ]
        }
      ],
      "source": [
        "# 질의응답\n",
        "print(query_engine.query(\"울프 코퍼레이션의 CEO의 이름은?\"))"
      ]
    },
    {
      "cell_type": "code",
      "execution_count": 11,
      "metadata": {
        "colab": {
          "base_uri": "https://localhost:8080/"
        },
        "id": "FzH0oufXr9HB",
        "outputId": "46e927e4-8a0d-43ee-d765-f57275ec5684"
      },
      "outputs": [
        {
          "name": "stdout",
          "output_type": "stream",
          "text": [
            "DEBUG:openai:message='Request to OpenAI API' method=post path=https://api.openai.com/v1/embeddings\n",
            "DEBUG:openai:api_version=None data='{\"input\": [\"\\\\ubbf8\\\\ucf54\\\\uc758 \\\\uc131\\\\uaca9\\\\uc740?\"], \"model\": \"text-embedding-ada-002\", \"encoding_format\": \"base64\"}' message='Post details'\n",
            "DEBUG:urllib3.connectionpool:https://api.openai.com:443 \"POST /v1/embeddings HTTP/1.1\" 200 None\n",
            "DEBUG:openai:message='OpenAI API response' path=https://api.openai.com/v1/embeddings processing_ms=19 request_id=req_1461e8cfb4ddf12a57fe8e263decbd41 response_code=200\n",
            "DEBUG:llama_index.indices.utils:> Top 2 nodes:\n",
            "> [Node 80056819-8cbf-4125-ba3b-1dad88a5a86b] [Similarity score:             0.839282] 제5장: 결전의 순간\n",
            "\n",
            "미코와 료는 마침내 울프 코퍼레이션의 최상층에 도착해 CEO인 교활한 울프 박사와 대면한다. 울프 박사는 시민을 지배하려는 사악한 야망을 드러내며 자신...\n",
            "> [Node d23aa09d-4a83-4916-9c10-19704303b507] [Similarity score:             0.833225] 제7장: 새로운 시작\n",
            "\n",
            "울프 코퍼레이션이 무너진 후, 미코와 료는 서로의 과거를 용서하고 다시 우정을 회복한다. 미코는 데이터카우리아를 그만두고 료와 함께 새로운 길을 걷기 ...\n",
            "INFO:llama_index.token_counter.token_counter:> [retrieve] Total LLM token usage: 0 tokens\n",
            "INFO:llama_index.token_counter.token_counter:> [retrieve] Total embedding token usage: 17 tokens\n",
            "DEBUG:openai:message='Request to OpenAI API' method=post path=https://api.openai.com/v1/chat/completions\n",
            "DEBUG:openai:api_version=None data='{\"messages\": [{\"role\": \"user\", \"content\": \"Context information is below. \\\\n---------------------\\\\n\\\\uc81c5\\\\uc7a5: \\\\uacb0\\\\uc804\\\\uc758 \\\\uc21c\\\\uac04\\\\n\\\\n\\\\ubbf8\\\\ucf54\\\\uc640 \\\\ub8cc\\\\ub294 \\\\ub9c8\\\\uce68\\\\ub0b4 \\\\uc6b8\\\\ud504 \\\\ucf54\\\\ud37c\\\\ub808\\\\uc774\\\\uc158\\\\uc758 \\\\ucd5c\\\\uc0c1\\\\uce35\\\\uc5d0 \\\\ub3c4\\\\ucc29\\\\ud574 CEO\\\\uc778 \\\\uad50\\\\ud65c\\\\ud55c \\\\uc6b8\\\\ud504 \\\\ubc15\\\\uc0ac\\\\uc640 \\\\ub300\\\\uba74\\\\ud55c\\\\ub2e4. \\\\uc6b8\\\\ud504 \\\\ubc15\\\\uc0ac\\\\ub294 \\\\uc2dc\\\\ubbfc\\\\uc744 \\\\uc9c0\\\\ubc30\\\\ud558\\\\ub824\\\\ub294 \\\\uc0ac\\\\uc545\\\\ud55c \\\\uc57c\\\\ub9dd\\\\uc744 \\\\ub4dc\\\\ub7ec\\\\ub0b4\\\\uba70 \\\\uc790\\\\uc2e0\\\\uc758 \\\\uc555\\\\ub3c4\\\\uc801\\\\uc778 \\\\ud798\\\\uc744 \\\\uacfc\\\\uc2dc\\\\ud55c\\\\ub2e4. \\\\ud558\\\\uc9c0\\\\ub9cc \\\\ubbf8\\\\ucf54\\\\uc640 \\\\ub8cc\\\\ub294 \\\\uc11c\\\\ub85c\\\\ub97c \\\\ub3c4\\\\uc640\\\\uac00\\\\uba70 \\\\uc6b8\\\\ud504 \\\\ubc15\\\\uc0ac\\\\uc640 \\\\uc2f8\\\\uc6b0\\\\uace0 \\\\uadf8\\\\uc758 \\\\uc57d\\\\uc810\\\\uc744 \\\\ucc3e\\\\uc544\\\\ub0b8\\\\ub2e4.\\\\n\\\\n\\\\uc81c7\\\\uc7a5: \\\\uc0c8\\\\ub85c\\\\uc6b4 \\\\uc2dc\\\\uc791\\\\n\\\\n\\\\uc6b8\\\\ud504 \\\\ucf54\\\\ud37c\\\\ub808\\\\uc774\\\\uc158\\\\uc774 \\\\ubb34\\\\ub108\\\\uc9c4 \\\\ud6c4, \\\\ubbf8\\\\ucf54\\\\uc640 \\\\ub8cc\\\\ub294 \\\\uc11c\\\\ub85c\\\\uc758 \\\\uacfc\\\\uac70\\\\ub97c \\\\uc6a9\\\\uc11c\\\\ud558\\\\uace0 \\\\ub2e4\\\\uc2dc \\\\uc6b0\\\\uc815\\\\uc744 \\\\ud68c\\\\ubcf5\\\\ud55c\\\\ub2e4. \\\\ubbf8\\\\ucf54\\\\ub294 \\\\ub370\\\\uc774\\\\ud130\\\\uce74\\\\uc6b0\\\\ub9ac\\\\uc544\\\\ub97c \\\\uadf8\\\\ub9cc\\\\ub450\\\\uace0 \\\\ub8cc\\\\uc640 \\\\ud568\\\\uaed8 \\\\uc0c8\\\\ub85c\\\\uc6b4 \\\\uae38\\\\uc744 \\\\uac77\\\\uae30 \\\\uc2dc\\\\uc791\\\\ud55c\\\\ub2e4. \\\\uadf8\\\\ub4e4\\\\uc740 \\\\uc2a4\\\\uc2a4\\\\ub85c\\\\uc758 \\\\ud798\\\\uc73c\\\\ub85c \\\\ubbf8\\\\ub798\\\\uc758 \\\\ub124\\\\uc624 \\\\ub3c4\\\\ucfc4\\\\ub97c \\\\ub354 \\\\ub098\\\\uc740 \\\\ub3c4\\\\uc2dc\\\\ub85c \\\\ubc14\\\\uafb8\\\\uc5b4 \\\\ub098\\\\uac08 \\\\uac83\\\\uc744 \\\\ub2e4\\\\uc9d0\\\\ud55c\\\\ub2e4. \\\\uc774\\\\uac83\\\\uc740 \\\\ubbf8\\\\ucf54\\\\uc640 \\\\ub8cc, \\\\uadf8\\\\ub9ac\\\\uace0 \\\\uc804\\\\ub1cc \\\\ube68\\\\uac04 \\\\ub9dd\\\\ud1a0\\\\uc758 \\\\uc0c8\\\\ub85c\\\\uc6b4 \\\\ubaa8\\\\ud5d8\\\\uc758 \\\\uc2dc\\\\uc791\\\\uc774\\\\uc5c8\\\\ub2e4.\\\\n---------------------\\\\nGiven the context information and not prior knowledge, answer the question: \\\\ubbf8\\\\ucf54\\\\uc758 \\\\uc131\\\\uaca9\\\\uc740?\\\\n\"}], \"model\": \"gpt-3.5-turbo\", \"max_tokens\": null, \"stream\": false, \"n\": 1, \"temperature\": 0.0}' message='Post details'\n",
            "DEBUG:urllib3.connectionpool:https://api.openai.com:443 \"POST /v1/chat/completions HTTP/1.1\" 200 None\n",
            "DEBUG:openai:message='OpenAI API response' path=https://api.openai.com/v1/chat/completions processing_ms=2130 request_id=req_9bf5ed4f4af49e49df5af8714ee49036 response_code=200\n",
            "DEBUG:llama_index.llm_predictor.base:미코는 울프 박사와의 싸움에서 용감하고 결단력이 있는 모습을 보여주며, 료와의 협력을 통해 약점을 찾아내는 등 지능적이고 친구를 소중히 여기는 성향을 보이고 있다. 또한, 과거를 용서하고 새로운 시작을 함으로써 자신의 실수를 인정하고 성장하는 모습을 보여준다. 따라서 미코는 용감하고 지능적이며 친구를 소중히 여기며 성장하는 성격을 가지고 있다.\n",
            "DEBUG:llama_index.indices.response.base_builder:> Initial prompt template: Context information is below. \n",
            "---------------------\n",
            "제5장: 결전의 순간\n",
            "\n",
            "미코와 료는 마침내 울프 코퍼레이션의 최상층에 도착해 CEO인 교활한 울프 박사와 대면한다. 울프 박사는 시민을 지배하려는 사악한 야망을 드러내며 자신의 압도적인 힘을 과시한다. 하지만 미코와 료는 서로를 도와가며 울프 박사와 싸우고 그의 약점을 찾아낸다.\n",
            "\n",
            "제7장: 새로운 시작\n",
            "\n",
            "울프 코퍼레이션이 무너진 후, 미코와 료는 서로의 과거를 용서하고 다시 우정을 회복한다. 미코는 데이터카우리아를 그만두고 료와 함께 새로운 길을 걷기 시작한다. 그들은 스스로의 힘으로 미래의 네오 도쿄를 더 나은 도시로 바꾸어 나갈 것을 다짐한다. 이것은 미코와 료, 그리고 전뇌 빨간 망토의 새로운 모험의 시작이었다.\n",
            "---------------------\n",
            "Given the context information and not prior knowledge, answer the question: 미코의 성격은?\n",
            "\n",
            "DEBUG:llama_index.indices.response.base_builder:> Initial response: 미코는 울프 박사와의 싸움에서 용감하고 결단력이 있는 모습을 보여주며, 료와의 협력을 통해 약점을 찾아내는 등 지능적이고 친구를 소중히 여기는 성향을 보이고 있다. 또한, 과거를 용서하고 새로운 시작을 함으로써 자신의 실수를 인정하고 성장하는 모습을 보여준다. 따라서 미코는 용감하고 지능적이며 친구를 소중히 여기며 성장하는 성격을 가지고 있다.\n",
            "INFO:llama_index.token_counter.token_counter:> [get_response] Total LLM token usage: 1189 tokens\n",
            "INFO:llama_index.token_counter.token_counter:> [get_response] Total embedding token usage: 0 tokens\n",
            "미코는 울프 박사와의 싸움에서 용감하고 결단력이 있는 모습을 보여주며, 료와의 협력을 통해 약점을 찾아내는 등 지능적이고 친구를 소중히 여기는 성향을 보이고 있다. 또한, 과거를 용서하고 새로운 시작을 함으로써 자신의 실수를 인정하고 성장하는 모습을 보여준다. 따라서 미코는 용감하고 지능적이며 친구를 소중히 여기며 성장하는 성격을 가지고 있다.\n"
          ]
        }
      ],
      "source": [
        "# 질의응답\n",
        "print(query_engine.query(\"미코의 성격은?\"))"
      ]
    },
    {
      "cell_type": "markdown",
      "metadata": {
        "id": "MEA4VDnjs8z4"
      },
      "source": [
        "# 인덱스 저장 및 로드"
      ]
    },
    {
      "cell_type": "code",
      "execution_count": 12,
      "metadata": {
        "colab": {
          "base_uri": "https://localhost:8080/"
        },
        "id": "hd-ivJiktAc9",
        "outputId": "4fb5c015-6aed-4bd9-fc5c-3f207fd5af57"
      },
      "outputs": [
        {
          "name": "stdout",
          "output_type": "stream",
          "text": [
            "DEBUG:fsspec.local:open file: /content/storage/docstore.json\n",
            "DEBUG:fsspec.local:open file: /content/storage/index_store.json\n",
            "DEBUG:fsspec.local:open file: /content/storage/vector_store.json\n"
          ]
        }
      ],
      "source": [
        "# 인덱스 저장\n",
        "index.storage_context.persist()"
      ]
    },
    {
      "cell_type": "code",
      "execution_count": 13,
      "metadata": {
        "colab": {
          "base_uri": "https://localhost:8080/"
        },
        "id": "SdSQ-yLotAfe",
        "outputId": "b590d6a5-af92-4039-a9cc-94455cc972df"
      },
      "outputs": [
        {
          "name": "stdout",
          "output_type": "stream",
          "text": [
            "DEBUG:llama_index.storage.kvstore.simple_kvstore:Loading llama_index.storage.kvstore.simple_kvstore from ./storage/docstore.json.\n",
            "DEBUG:fsspec.local:open file: /content/storage/docstore.json\n",
            "DEBUG:llama_index.storage.kvstore.simple_kvstore:Loading llama_index.storage.kvstore.simple_kvstore from ./storage/index_store.json.\n",
            "DEBUG:fsspec.local:open file: /content/storage/index_store.json\n",
            "DEBUG:llama_index.vector_stores.simple:Loading llama_index.vector_stores.simple from ./storage/vector_store.json.\n",
            "DEBUG:fsspec.local:open file: /content/storage/vector_store.json\n",
            "INFO:llama_index.indices.loading:Loading all indices.\n"
          ]
        }
      ],
      "source": [
        "from llama_index import StorageContext, load_index_from_storage\n",
        "\n",
        "# 인덱스 로드\n",
        "storage_context = StorageContext.from_defaults(persist_dir=\"./storage\")\n",
        "index = load_index_from_storage(storage_context)"
      ]
    }
  ],
  "metadata": {
    "colab": {
      "provenance": []
    },
    "gpuClass": "standard",
    "kernelspec": {
      "display_name": "Python 3 (ipykernel)",
      "language": "python",
      "name": "python3"
    },
    "language_info": {
      "codemirror_mode": {
        "name": "ipython",
        "version": 3
      },
      "file_extension": ".py",
      "mimetype": "text/x-python",
      "name": "python",
      "nbconvert_exporter": "python",
      "pygments_lexer": "ipython3",
      "version": "3.11.4"
    }
  },
  "nbformat": 4,
  "nbformat_minor": 0
}
