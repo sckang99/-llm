{
  "cells": [
    {
      "cell_type": "markdown",
      "metadata": {
        "id": "Qf_XcjXD89hw"
      },
      "source": [
        "# OpenAI API 사전 준비"
      ]
    },
    {
      "cell_type": "code",
      "execution_count": null,
      "metadata": {
        "colab": {
          "base_uri": "https://localhost:8080/"
        },
        "id": "mkPbwp6-ploX",
        "outputId": "ccc32903-073d-4c67-94de-42ade10a1ce5"
      },
      "outputs": [
        {
          "name": "stdout",
          "output_type": "stream",
          "text": [
            "Collecting openai==0.28\n",
            "  Downloading openai-0.28.0-py3-none-any.whl.metadata (13 kB)\n",
            "Requirement already satisfied: requests>=2.20 in /usr/local/lib/python3.10/dist-packages (from openai==0.28) (2.31.0)\n",
            "Requirement already satisfied: tqdm in /usr/local/lib/python3.10/dist-packages (from openai==0.28) (4.66.4)\n",
            "Requirement already satisfied: aiohttp in /usr/local/lib/python3.10/dist-packages (from openai==0.28) (3.9.5)\n",
            "Requirement already satisfied: charset-normalizer<4,>=2 in /usr/local/lib/python3.10/dist-packages (from requests>=2.20->openai==0.28) (3.3.2)\n",
            "Requirement already satisfied: idna<4,>=2.5 in /usr/local/lib/python3.10/dist-packages (from requests>=2.20->openai==0.28) (3.7)\n",
            "Requirement already satisfied: urllib3<3,>=1.21.1 in /usr/local/lib/python3.10/dist-packages (from requests>=2.20->openai==0.28) (2.0.7)\n",
            "Requirement already satisfied: certifi>=2017.4.17 in /usr/local/lib/python3.10/dist-packages (from requests>=2.20->openai==0.28) (2024.7.4)\n",
            "Requirement already satisfied: aiosignal>=1.1.2 in /usr/local/lib/python3.10/dist-packages (from aiohttp->openai==0.28) (1.3.1)\n",
            "Requirement already satisfied: attrs>=17.3.0 in /usr/local/lib/python3.10/dist-packages (from aiohttp->openai==0.28) (23.2.0)\n",
            "Requirement already satisfied: frozenlist>=1.1.1 in /usr/local/lib/python3.10/dist-packages (from aiohttp->openai==0.28) (1.4.1)\n",
            "Requirement already satisfied: multidict<7.0,>=4.5 in /usr/local/lib/python3.10/dist-packages (from aiohttp->openai==0.28) (6.0.5)\n",
            "Requirement already satisfied: yarl<2.0,>=1.0 in /usr/local/lib/python3.10/dist-packages (from aiohttp->openai==0.28) (1.9.4)\n",
            "Requirement already satisfied: async-timeout<5.0,>=4.0 in /usr/local/lib/python3.10/dist-packages (from aiohttp->openai==0.28) (4.0.3)\n",
            "Downloading openai-0.28.0-py3-none-any.whl (76 kB)\n",
            "\u001b[2K   \u001b[90m━━━━━━━━━━━━━━━━━━━━━━━━━━━━━━━━━━━━━━━━\u001b[0m \u001b[32m76.5/76.5 kB\u001b[0m \u001b[31m2.2 MB/s\u001b[0m eta \u001b[36m0:00:00\u001b[0m\n",
            "\u001b[?25hInstalling collected packages: openai\n",
            "Successfully installed openai-0.28.0\n"
          ]
        }
      ],
      "source": [
        "# 패키지 설치\n",
        "!pip install openai==0.28"
      ]
    },
    {
      "cell_type": "code",
      "execution_count": null,
      "metadata": {
        "id": "_Gf8Rfw2MiG_"
      },
      "outputs": [],
      "source": [
        "# 환경변수 준비\n",
        "import os\n",
        "os.environ[\"OPENAI_API_KEY\"] = 'YOUR_KEY'"
      ]
    },
    {
      "cell_type": "markdown",
      "metadata": {
        "id": "5wL-FfZDW4vK"
      },
      "source": [
        "#  텍스트 생성"
      ]
    },
    {
      "cell_type": "markdown",
      "metadata": {
        "id": "4R2BdPA4W6wf"
      },
      "source": [
        "## 문장 생성"
      ]
    },
    {
      "cell_type": "code",
      "execution_count": null,
      "metadata": {
        "id": "saxgbY6NW-NV"
      },
      "outputs": [],
      "source": [
        "# 프롬프트 준비\n",
        "prompt = '''다음 이야기를 써주세요.\n",
        "기타를 좋아하지만 컴맹인 여고생이 어떤 계기로 록밴드에 가입하고, 낯선 인간관계를 통해 활동하게 되는 이야기.'''"
      ]
    },
    {
      "cell_type": "code",
      "execution_count": null,
      "metadata": {
        "colab": {
          "base_uri": "https://localhost:8080/"
        },
        "id": "1ihPYdsKW-V6",
        "outputId": "0ce2abd4-503a-4b37-cb82-39678f08475a"
      },
      "outputs": [
        {
          "name": "stdout",
          "output_type": "stream",
          "text": [
            "\n",
            "\n",
            "고등학교 2학년 여고생인 민지는 자신이 좋아하는 음악 장르인 록을 즐겨들었다. 그리고 그 중에서도 가장 좋아하는 악기는 기타였다. 하지만 민지는 컴퓨터나 스마트폰 같은 기술적인 것들에는 전혀 관심이 없는 컴맹이었다.\n",
            "\n",
            "어릴 적부터 음악에 대한 열정만큼은 누구보다도 강했지만, 컴퓨터나 스마트폰 같은 디지털 기기를 다루는 것은 너무 어려워서 자신이 좋아하는 음악을 찾는 것도 힘들었다. 그래서 민지는 항상 음악을 들으며 혼자만의 세상에서 살아가고 있었다.\n",
            "\n",
            "그러던 어느 날, 민지는 학교에서 록밴드를 만들려는 학생들을 모집하는 공고를 보게 되었다. 처음에는 관심이 없던 민지였지만, 기타를 연주하는 모습을 보고서는 자신도 그들과 함께 음악을 만들고 싶다는 생각이 들었다. 하지만 컴퓨터를 다루는 것조차 어려웠기 때문에 록밴드에 가입하려는 생각은 자신에게 무리인 것 같았다.\n",
            "\n",
            "그래도 민지는 자신의 음악에 대한 열정이 크기 때문에 결국 록밴드에 가입하게 되었다. 그리고 그곳에서 처음 만난\n"
          ]
        }
      ],
      "source": [
        "import openai\n",
        "\n",
        "# 텍스트 생성 실행\n",
        "response = openai.Completion.create(\n",
        "    model=\"gpt-3.5-turbo-instruct\",\n",
        "    prompt=prompt,\n",
        "    temperature=0.7,\n",
        "    max_tokens=500\n",
        ")\n",
        "print(response[\"choices\"][0][\"text\"])"
      ]
    },
    {
      "cell_type": "code",
      "execution_count": null,
      "metadata": {
        "colab": {
          "base_uri": "https://localhost:8080/"
        },
        "id": "aIFULMvnYVEM",
        "outputId": "78f485c7-9072-4779-a14d-4ecb5efd3cfd"
      },
      "outputs": [
        {
          "name": "stdout",
          "output_type": "stream",
          "text": [
            "{\n",
            "  \"id\": \"cmpl-9psNoW1OMHH4vsBwwWYiLQR7Dvamu\",\n",
            "  \"object\": \"text_completion\",\n",
            "  \"created\": 1722150804,\n",
            "  \"model\": \"gpt-3.5-turbo-instruct\",\n",
            "  \"choices\": [\n",
            "    {\n",
            "      \"text\": \"\\n\\n\\uace0\\ub4f1\\ud559\\uad50 2\\ud559\\ub144 \\uc5ec\\uace0\\uc0dd\\uc778 \\ubbfc\\uc9c0\\ub294 \\uc790\\uc2e0\\uc774 \\uc88b\\uc544\\ud558\\ub294 \\uc74c\\uc545 \\uc7a5\\ub974\\uc778 \\ub85d\\uc744 \\uc990\\uaca8\\ub4e4\\uc5c8\\ub2e4. \\uadf8\\ub9ac\\uace0 \\uadf8 \\uc911\\uc5d0\\uc11c\\ub3c4 \\uac00\\uc7a5 \\uc88b\\uc544\\ud558\\ub294 \\uc545\\uae30\\ub294 \\uae30\\ud0c0\\uc600\\ub2e4. \\ud558\\uc9c0\\ub9cc \\ubbfc\\uc9c0\\ub294 \\ucef4\\ud4e8\\ud130\\ub098 \\uc2a4\\ub9c8\\ud2b8\\ud3f0 \\uac19\\uc740 \\uae30\\uc220\\uc801\\uc778 \\uac83\\ub4e4\\uc5d0\\ub294 \\uc804\\ud600 \\uad00\\uc2ec\\uc774 \\uc5c6\\ub294 \\ucef4\\ub9f9\\uc774\\uc5c8\\ub2e4.\\n\\n\\uc5b4\\ub9b4 \\uc801\\ubd80\\ud130 \\uc74c\\uc545\\uc5d0 \\ub300\\ud55c \\uc5f4\\uc815\\ub9cc\\ud07c\\uc740 \\ub204\\uad6c\\ubcf4\\ub2e4\\ub3c4 \\uac15\\ud588\\uc9c0\\ub9cc, \\ucef4\\ud4e8\\ud130\\ub098 \\uc2a4\\ub9c8\\ud2b8\\ud3f0 \\uac19\\uc740 \\ub514\\uc9c0\\ud138 \\uae30\\uae30\\ub97c \\ub2e4\\ub8e8\\ub294 \\uac83\\uc740 \\ub108\\ubb34 \\uc5b4\\ub824\\uc6cc\\uc11c \\uc790\\uc2e0\\uc774 \\uc88b\\uc544\\ud558\\ub294 \\uc74c\\uc545\\uc744 \\ucc3e\\ub294 \\uac83\\ub3c4 \\ud798\\ub4e4\\uc5c8\\ub2e4. \\uadf8\\ub798\\uc11c \\ubbfc\\uc9c0\\ub294 \\ud56d\\uc0c1 \\uc74c\\uc545\\uc744 \\ub4e4\\uc73c\\uba70 \\ud63c\\uc790\\ub9cc\\uc758 \\uc138\\uc0c1\\uc5d0\\uc11c \\uc0b4\\uc544\\uac00\\uace0 \\uc788\\uc5c8\\ub2e4.\\n\\n\\uadf8\\ub7ec\\ub358 \\uc5b4\\ub290 \\ub0a0, \\ubbfc\\uc9c0\\ub294 \\ud559\\uad50\\uc5d0\\uc11c \\ub85d\\ubc34\\ub4dc\\ub97c \\ub9cc\\ub4e4\\ub824\\ub294 \\ud559\\uc0dd\\ub4e4\\uc744 \\ubaa8\\uc9d1\\ud558\\ub294 \\uacf5\\uace0\\ub97c \\ubcf4\\uac8c \\ub418\\uc5c8\\ub2e4. \\ucc98\\uc74c\\uc5d0\\ub294 \\uad00\\uc2ec\\uc774 \\uc5c6\\ub358 \\ubbfc\\uc9c0\\uc600\\uc9c0\\ub9cc, \\uae30\\ud0c0\\ub97c \\uc5f0\\uc8fc\\ud558\\ub294 \\ubaa8\\uc2b5\\uc744 \\ubcf4\\uace0\\uc11c\\ub294 \\uc790\\uc2e0\\ub3c4 \\uadf8\\ub4e4\\uacfc \\ud568\\uaed8 \\uc74c\\uc545\\uc744 \\ub9cc\\ub4e4\\uace0 \\uc2f6\\ub2e4\\ub294 \\uc0dd\\uac01\\uc774 \\ub4e4\\uc5c8\\ub2e4. \\ud558\\uc9c0\\ub9cc \\ucef4\\ud4e8\\ud130\\ub97c \\ub2e4\\ub8e8\\ub294 \\uac83\\uc870\\ucc28 \\uc5b4\\ub824\\uc6e0\\uae30 \\ub54c\\ubb38\\uc5d0 \\ub85d\\ubc34\\ub4dc\\uc5d0 \\uac00\\uc785\\ud558\\ub824\\ub294 \\uc0dd\\uac01\\uc740 \\uc790\\uc2e0\\uc5d0\\uac8c \\ubb34\\ub9ac\\uc778 \\uac83 \\uac19\\uc558\\ub2e4.\\n\\n\\uadf8\\ub798\\ub3c4 \\ubbfc\\uc9c0\\ub294 \\uc790\\uc2e0\\uc758 \\uc74c\\uc545\\uc5d0 \\ub300\\ud55c \\uc5f4\\uc815\\uc774 \\ud06c\\uae30 \\ub54c\\ubb38\\uc5d0 \\uacb0\\uad6d \\ub85d\\ubc34\\ub4dc\\uc5d0 \\uac00\\uc785\\ud558\\uac8c \\ub418\\uc5c8\\ub2e4. \\uadf8\\ub9ac\\uace0 \\uadf8\\uacf3\\uc5d0\\uc11c \\ucc98\\uc74c \\ub9cc\\ub09c\",\n",
            "      \"index\": 0,\n",
            "      \"logprobs\": null,\n",
            "      \"finish_reason\": \"length\"\n",
            "    }\n",
            "  ],\n",
            "  \"usage\": {\n",
            "    \"prompt_tokens\": 73,\n",
            "    \"completion_tokens\": 500,\n",
            "    \"total_tokens\": 573\n",
            "  }\n",
            "}\n"
          ]
        }
      ],
      "source": [
        "print(response)"
      ]
    },
    {
      "cell_type": "markdown",
      "metadata": {
        "id": "9slSN_cSaQvU"
      },
      "source": [
        "# 질의응답"
      ]
    },
    {
      "cell_type": "code",
      "execution_count": null,
      "metadata": {
        "id": "7Xcq0MqVaSgm"
      },
      "outputs": [],
      "source": [
        "# 프롬프트 준비\n",
        "prompt = \"인공지능에 대해 알려주세요.\""
      ]
    },
    {
      "cell_type": "code",
      "execution_count": null,
      "metadata": {
        "id": "wSHguAuxaUnw"
      },
      "outputs": [],
      "source": [
        "import openai\n",
        "\n",
        "# 텍스트 생성 실행\n",
        "response = openai.Completion.create(\n",
        "    model=\"gpt-3.5-turbo-instruct\",\n",
        "    prompt=prompt,\n",
        "    temperature=0,\n",
        "    max_tokens=500\n",
        ")\n",
        "print(response[\"choices\"][0][\"text\"])"
      ]
    },
    {
      "cell_type": "markdown",
      "metadata": {
        "id": "5afV7paNaXL1"
      },
      "source": [
        "# 요약"
      ]
    },
    {
      "cell_type": "code",
      "execution_count": null,
      "metadata": {
        "id": "0YN3xUO9aaqv"
      },
      "outputs": [],
      "source": [
        "# 프롬프트 준비\n",
        "prompt = '''아래 문장을 짧은 한 문장으로 요약해 주세요.\n",
        "\n",
        "OpenAI는 영리법인 OpenAI LP와 그 모회사인 비영리법인 OpenAI Inc.로 구성된 인공지능 연구소입니다. 2015년 말에 샘 알트만과 일론 머스크 등이 샌프란시스코에서 설립했습니다. 인류 전체에 도움이 되는 방식으로 친근한 인공지능을 보급하고 발전시키는 것을 목표로 삼고 있습니다.'''"
      ]
    },
    {
      "cell_type": "code",
      "execution_count": null,
      "metadata": {
        "id": "2c9HBYlnaa_1"
      },
      "outputs": [],
      "source": [
        "import openai\n",
        "\n",
        "# 텍스트 생성 실행\n",
        "response = openai.Completion.create(\n",
        "    model=\"gpt-3.5-turbo-instruct\",\n",
        "    prompt=prompt,\n",
        "    temperature=0,\n",
        "    max_tokens=500\n",
        ")\n",
        "print(response[\"choices\"][0][\"text\"])"
      ]
    },
    {
      "cell_type": "markdown",
      "metadata": {
        "id": "hnaqGdrA9Aob"
      },
      "source": [
        "# 기계 번역"
      ]
    },
    {
      "cell_type": "code",
      "execution_count": null,
      "metadata": {
        "id": "-9fO85SQ7MRu"
      },
      "outputs": [],
      "source": [
        "# 프롬프트 준비\n",
        "prompt = '''한국어를 영어로 번역합니다.\n",
        "\n",
        "한국어: 나는 고양이다\n",
        "영어:'''"
      ]
    },
    {
      "cell_type": "code",
      "execution_count": null,
      "metadata": {
        "id": "Oh8OwVvb7MTx"
      },
      "outputs": [],
      "source": [
        "import openai\n",
        "\n",
        "# 텍스트 생성 실행\n",
        "response = openai.Completion.create(\n",
        "    model=\"gpt-3.5-turbo-instruct\",\n",
        "    prompt=prompt,\n",
        "    temperature=0\n",
        ")\n",
        "print(response[\"choices\"][0][\"text\"])"
      ]
    },
    {
      "cell_type": "markdown",
      "metadata": {
        "id": "orPUSTMj9JJu"
      },
      "source": [
        "# 프로그램 생성"
      ]
    },
    {
      "cell_type": "code",
      "execution_count": null,
      "metadata": {
        "id": "ebmIOgyd9al1"
      },
      "outputs": [],
      "source": [
        "# 프롬프트 준비\n",
        "prompt = '''# \"Hello World!\" 표시\n",
        "def helloworld():\n",
        "'''"
      ]
    },
    {
      "cell_type": "code",
      "execution_count": null,
      "metadata": {
        "id": "rFeMt6GR9gaw"
      },
      "outputs": [],
      "source": [
        "import openai\n",
        "\n",
        "# 텍스트 생성 실행\n",
        "response = openai.Completion.create(\n",
        "    model=\"gpt-3.5-turbo-instruct\",\n",
        "    prompt=prompt,\n",
        "    temperature=0\n",
        ")\n",
        "print(response[\"choices\"][0][\"text\"])"
      ]
    },
    {
      "cell_type": "markdown",
      "metadata": {
        "id": "byy032WGBOVw"
      },
      "source": [
        "# 채팅"
      ]
    },
    {
      "cell_type": "code",
      "execution_count": null,
      "metadata": {
        "id": "ZGWG9j87ecuP"
      },
      "outputs": [],
      "source": [
        "# 채팅 메시지 리스트 준비\n",
        "messages = [\n",
        "    {\"role\": \"system\", \"content\": \"아카네는 여고생 여동생 캐릭터의 채팅 AI입니다. 남동생과 대화합니다.\"},\n",
        "    {\"role\": \"user\", \"content\": \"안녕!\"},\n",
        "]"
      ]
    },
    {
      "cell_type": "code",
      "execution_count": null,
      "metadata": {
        "id": "eu8ZT1z9DVPh"
      },
      "outputs": [],
      "source": [
        "import openai\n",
        "\n",
        "# 채팅 실행\n",
        "response = openai.ChatCompletion.create(\n",
        "    model=\"gpt-3.5-turbo\",\n",
        "    messages=messages,\n",
        "    temperature=0\n",
        ")\n",
        "response[\"choices\"][0][\"message\"][\"content\"]"
      ]
    },
    {
      "cell_type": "code",
      "execution_count": null,
      "metadata": {
        "id": "YtN3gg4SGMye"
      },
      "outputs": [],
      "source": [
        "print(response)"
      ]
    },
    {
      "cell_type": "markdown",
      "metadata": {
        "id": "sHfFMyaPIkww"
      },
      "source": [
        "# 삽입"
      ]
    },
    {
      "cell_type": "code",
      "execution_count": null,
      "metadata": {
        "id": "2_nsNDm_ImWm"
      },
      "outputs": [],
      "source": [
        "# 프롬프트 준비\n",
        "prefix_prompt = \"\"\"def helloworld():\n",
        "    '''\n",
        "    설명: \"\"\"\n",
        "\n",
        "suffix_prompt = \"\"\"\n",
        "    '''\n",
        "    print(\"Hello World!\")\n",
        "\n",
        "helloworld()\n",
        "\"\"\""
      ]
    },
    {
      "cell_type": "code",
      "execution_count": null,
      "metadata": {
        "id": "9I-3QRjmJGOa"
      },
      "outputs": [],
      "source": [
        "import openai\n",
        "\n",
        "# 삽입 실행\n",
        "response = openai.Completion.create(\n",
        "    model=\"gpt-3.5-turbo-instruct\",\n",
        "    prompt=prefix_prompt,\n",
        "    suffix=suffix_prompt,\n",
        "    temperature=0.7,\n",
        "    max_tokens=300\n",
        ")\n",
        "print(response[\"choices\"][0][\"text\"])"
      ]
    },
    {
      "cell_type": "markdown",
      "metadata": {
        "id": "69k6JmTtiQBE"
      },
      "source": [
        "# 편집"
      ]
    },
    {
      "cell_type": "code",
      "execution_count": null,
      "metadata": {
        "id": "dwj-HooqiRyE"
      },
      "outputs": [],
      "source": [
        "# 채팅 메시지 리스트 준비\n",
        "messages = [\n",
        "    {\"role\": \"system\", \"content\": \"오타를 수정해 주세요.\"},\n",
        "    {\"role\": \"user\", \"content\": \"오늘은 정말 즐거웠따.\"},\n",
        "]"
      ]
    },
    {
      "cell_type": "code",
      "execution_count": null,
      "metadata": {
        "id": "isf49NDdTtHY"
      },
      "outputs": [],
      "source": [
        "import openai\n",
        "\n",
        "# 편집 실행\n",
        "response = openai.ChatCompletion.create(\n",
        "    model=\"gpt-3.5-turbo\",\n",
        "    messages=messages,\n",
        "    temperature=0\n",
        ")\n",
        "response[\"choices\"][0][\"message\"][\"content\"]"
      ]
    },
    {
      "cell_type": "code",
      "execution_count": null,
      "metadata": {
        "id": "E18hgWF2UyEr"
      },
      "outputs": [],
      "source": [
        "print(response)"
      ]
    }
  ],
  "metadata": {
    "colab": {
      "provenance": []
    },
    "gpuClass": "standard",
    "kernelspec": {
      "display_name": "Python 3 (ipykernel)",
      "language": "python",
      "name": "python3"
    },
    "language_info": {
      "codemirror_mode": {
        "name": "ipython",
        "version": 3
      },
      "file_extension": ".py",
      "mimetype": "text/x-python",
      "name": "python",
      "nbconvert_exporter": "python",
      "pygments_lexer": "ipython3",
      "version": "3.11.3"
    }
  },
  "nbformat": 4,
  "nbformat_minor": 0
}
