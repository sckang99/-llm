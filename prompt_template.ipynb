{
  "cells": [
    {
      "cell_type": "markdown",
      "metadata": {
        "id": "aQ2KGyLJ99Yi"
      },
      "source": [
        "# 랭체인 사전 준비"
      ]
    },
    {
      "cell_type": "code",
      "execution_count": 13,
      "metadata": {
        "id": "mkPbwp6-ploX",
        "outputId": "b84a5bc8-2287-4817-dd31-6101b0bcf3a7",
        "colab": {
          "base_uri": "https://localhost:8080/",
          "height": 1002
        }
      },
      "outputs": [
        {
          "output_type": "stream",
          "name": "stdout",
          "text": [
            "Requirement already satisfied: langchain==0.0.181 in /usr/local/lib/python3.10/dist-packages (0.0.181)\n",
            "Requirement already satisfied: PyYAML>=5.4.1 in /usr/local/lib/python3.10/dist-packages (from langchain==0.0.181) (6.0.1)\n",
            "Requirement already satisfied: SQLAlchemy<3,>=1.4 in /usr/local/lib/python3.10/dist-packages (from langchain==0.0.181) (2.0.31)\n",
            "Requirement already satisfied: aiohttp<4.0.0,>=3.8.3 in /usr/local/lib/python3.10/dist-packages (from langchain==0.0.181) (3.9.5)\n",
            "Requirement already satisfied: async-timeout<5.0.0,>=4.0.0 in /usr/local/lib/python3.10/dist-packages (from langchain==0.0.181) (4.0.3)\n",
            "Requirement already satisfied: dataclasses-json<0.6.0,>=0.5.7 in /usr/local/lib/python3.10/dist-packages (from langchain==0.0.181) (0.5.14)\n",
            "Requirement already satisfied: numexpr<3.0.0,>=2.8.4 in /usr/local/lib/python3.10/dist-packages (from langchain==0.0.181) (2.10.1)\n",
            "Requirement already satisfied: numpy<2,>=1 in /usr/local/lib/python3.10/dist-packages (from langchain==0.0.181) (1.25.2)\n",
            "Requirement already satisfied: openapi-schema-pydantic<2.0,>=1.2 in /usr/local/lib/python3.10/dist-packages (from langchain==0.0.181) (1.2.4)\n",
            "Requirement already satisfied: pydantic<2,>=1 in /usr/local/lib/python3.10/dist-packages (from langchain==0.0.181) (1.10.17)\n",
            "Requirement already satisfied: requests<3,>=2 in /usr/local/lib/python3.10/dist-packages (from langchain==0.0.181) (2.31.0)\n",
            "Requirement already satisfied: tenacity<9.0.0,>=8.1.0 in /usr/local/lib/python3.10/dist-packages (from langchain==0.0.181) (8.5.0)\n",
            "Requirement already satisfied: aiosignal>=1.1.2 in /usr/local/lib/python3.10/dist-packages (from aiohttp<4.0.0,>=3.8.3->langchain==0.0.181) (1.3.1)\n",
            "Requirement already satisfied: attrs>=17.3.0 in /usr/local/lib/python3.10/dist-packages (from aiohttp<4.0.0,>=3.8.3->langchain==0.0.181) (23.2.0)\n",
            "Requirement already satisfied: frozenlist>=1.1.1 in /usr/local/lib/python3.10/dist-packages (from aiohttp<4.0.0,>=3.8.3->langchain==0.0.181) (1.4.1)\n",
            "Requirement already satisfied: multidict<7.0,>=4.5 in /usr/local/lib/python3.10/dist-packages (from aiohttp<4.0.0,>=3.8.3->langchain==0.0.181) (6.0.5)\n",
            "Requirement already satisfied: yarl<2.0,>=1.0 in /usr/local/lib/python3.10/dist-packages (from aiohttp<4.0.0,>=3.8.3->langchain==0.0.181) (1.9.4)\n",
            "Requirement already satisfied: marshmallow<4.0.0,>=3.18.0 in /usr/local/lib/python3.10/dist-packages (from dataclasses-json<0.6.0,>=0.5.7->langchain==0.0.181) (3.21.3)\n",
            "Requirement already satisfied: typing-inspect<1,>=0.4.0 in /usr/local/lib/python3.10/dist-packages (from dataclasses-json<0.6.0,>=0.5.7->langchain==0.0.181) (0.9.0)\n",
            "Requirement already satisfied: typing-extensions>=4.2.0 in /usr/local/lib/python3.10/dist-packages (from pydantic<2,>=1->langchain==0.0.181) (4.12.2)\n",
            "Requirement already satisfied: charset-normalizer<4,>=2 in /usr/local/lib/python3.10/dist-packages (from requests<3,>=2->langchain==0.0.181) (3.3.2)\n",
            "Requirement already satisfied: idna<4,>=2.5 in /usr/local/lib/python3.10/dist-packages (from requests<3,>=2->langchain==0.0.181) (3.7)\n",
            "Requirement already satisfied: urllib3<3,>=1.21.1 in /usr/local/lib/python3.10/dist-packages (from requests<3,>=2->langchain==0.0.181) (2.0.7)\n",
            "Requirement already satisfied: certifi>=2017.4.17 in /usr/local/lib/python3.10/dist-packages (from requests<3,>=2->langchain==0.0.181) (2024.7.4)\n",
            "Requirement already satisfied: greenlet!=0.4.17 in /usr/local/lib/python3.10/dist-packages (from SQLAlchemy<3,>=1.4->langchain==0.0.181) (3.0.3)\n",
            "Requirement already satisfied: packaging>=17.0 in /usr/local/lib/python3.10/dist-packages (from marshmallow<4.0.0,>=3.18.0->dataclasses-json<0.6.0,>=0.5.7->langchain==0.0.181) (24.1)\n",
            "Requirement already satisfied: mypy-extensions>=0.3.0 in /usr/local/lib/python3.10/dist-packages (from typing-inspect<1,>=0.4.0->dataclasses-json<0.6.0,>=0.5.7->langchain==0.0.181) (1.0.0)\n",
            "Collecting openai==0.28\n",
            "  Downloading openai-0.28.0-py3-none-any.whl.metadata (13 kB)\n",
            "Requirement already satisfied: requests>=2.20 in /usr/local/lib/python3.10/dist-packages (from openai==0.28) (2.31.0)\n",
            "Requirement already satisfied: tqdm in /usr/local/lib/python3.10/dist-packages (from openai==0.28) (4.66.4)\n",
            "Requirement already satisfied: aiohttp in /usr/local/lib/python3.10/dist-packages (from openai==0.28) (3.9.5)\n",
            "Requirement already satisfied: charset-normalizer<4,>=2 in /usr/local/lib/python3.10/dist-packages (from requests>=2.20->openai==0.28) (3.3.2)\n",
            "Requirement already satisfied: idna<4,>=2.5 in /usr/local/lib/python3.10/dist-packages (from requests>=2.20->openai==0.28) (3.7)\n",
            "Requirement already satisfied: urllib3<3,>=1.21.1 in /usr/local/lib/python3.10/dist-packages (from requests>=2.20->openai==0.28) (2.0.7)\n",
            "Requirement already satisfied: certifi>=2017.4.17 in /usr/local/lib/python3.10/dist-packages (from requests>=2.20->openai==0.28) (2024.7.4)\n",
            "Requirement already satisfied: aiosignal>=1.1.2 in /usr/local/lib/python3.10/dist-packages (from aiohttp->openai==0.28) (1.3.1)\n",
            "Requirement already satisfied: attrs>=17.3.0 in /usr/local/lib/python3.10/dist-packages (from aiohttp->openai==0.28) (23.2.0)\n",
            "Requirement already satisfied: frozenlist>=1.1.1 in /usr/local/lib/python3.10/dist-packages (from aiohttp->openai==0.28) (1.4.1)\n",
            "Requirement already satisfied: multidict<7.0,>=4.5 in /usr/local/lib/python3.10/dist-packages (from aiohttp->openai==0.28) (6.0.5)\n",
            "Requirement already satisfied: yarl<2.0,>=1.0 in /usr/local/lib/python3.10/dist-packages (from aiohttp->openai==0.28) (1.9.4)\n",
            "Requirement already satisfied: async-timeout<5.0,>=4.0 in /usr/local/lib/python3.10/dist-packages (from aiohttp->openai==0.28) (4.0.3)\n",
            "Downloading openai-0.28.0-py3-none-any.whl (76 kB)\n",
            "\u001b[2K   \u001b[90m━━━━━━━━━━━━━━━━━━━━━━━━━━━━━━━━━━━━━━━━\u001b[0m \u001b[32m76.5/76.5 kB\u001b[0m \u001b[31m1.2 MB/s\u001b[0m eta \u001b[36m0:00:00\u001b[0m\n",
            "\u001b[?25hInstalling collected packages: openai\n",
            "  Attempting uninstall: openai\n",
            "    Found existing installation: openai 1.37.1\n",
            "    Uninstalling openai-1.37.1:\n",
            "      Successfully uninstalled openai-1.37.1\n",
            "Successfully installed openai-0.28.0\n"
          ]
        },
        {
          "output_type": "display_data",
          "data": {
            "application/vnd.colab-display-data+json": {
              "pip_warning": {
                "packages": [
                  "openai"
                ]
              },
              "id": "fae2afb8aae2495e93a4bb1c44b15f70"
            }
          },
          "metadata": {}
        }
      ],
      "source": [
        "# 패키지 설치\n",
        "!pip install langchain==0.0.181\n",
        "!pip install openai==0.28"
      ]
    },
    {
      "cell_type": "code",
      "execution_count": 1,
      "metadata": {
        "id": "_Gf8Rfw2MiG_"
      },
      "outputs": [],
      "source": [
        "# 환경변수 준비\n",
        "import os\n",
        "os.environ[\"OPENAI_API_KEY\"] = 'API_KEY'"
      ]
    },
    {
      "cell_type": "code",
      "execution_count": 2,
      "metadata": {
        "id": "8NJNp0nnOjW5",
        "outputId": "1e1a0cb2-fe4a-4093-faf1-eaa1b45cfe09",
        "colab": {
          "base_uri": "https://localhost:8080/",
          "height": 0
        }
      },
      "outputs": [
        {
          "output_type": "stream",
          "name": "stdout",
          "text": [
            "Requirement already satisfied: tiktoken in /usr/local/lib/python3.10/dist-packages (0.7.0)\n",
            "Requirement already satisfied: regex>=2022.1.18 in /usr/local/lib/python3.10/dist-packages (from tiktoken) (2024.5.15)\n",
            "Requirement already satisfied: requests>=2.26.0 in /usr/local/lib/python3.10/dist-packages (from tiktoken) (2.31.0)\n",
            "Requirement already satisfied: charset-normalizer<4,>=2 in /usr/local/lib/python3.10/dist-packages (from requests>=2.26.0->tiktoken) (3.3.2)\n",
            "Requirement already satisfied: idna<4,>=2.5 in /usr/local/lib/python3.10/dist-packages (from requests>=2.26.0->tiktoken) (3.7)\n",
            "Requirement already satisfied: urllib3<3,>=1.21.1 in /usr/local/lib/python3.10/dist-packages (from requests>=2.26.0->tiktoken) (2.0.7)\n",
            "Requirement already satisfied: certifi>=2017.4.17 in /usr/local/lib/python3.10/dist-packages (from requests>=2.26.0->tiktoken) (2024.7.4)\n",
            "Requirement already satisfied: faiss-gpu in /usr/local/lib/python3.10/dist-packages (1.7.2)\n"
          ]
        }
      ],
      "source": [
        "# 패키지 설치\n",
        "!pip install tiktoken\n",
        "!pip install faiss-gpu"
      ]
    },
    {
      "cell_type": "markdown",
      "metadata": {
        "id": "YPJ2lQW0-J3a"
      },
      "source": [
        "# 프롬프트 템플릿 생성"
      ]
    },
    {
      "cell_type": "code",
      "execution_count": 3,
      "metadata": {
        "id": "YBYKjuiZBAXn",
        "outputId": "5eaf5b1d-bb53-4528-cc84-8556c6ee5a58",
        "colab": {
          "base_uri": "https://localhost:8080/",
          "height": 0
        }
      },
      "outputs": [
        {
          "output_type": "stream",
          "name": "stdout",
          "text": [
            "멋진 동물이라고 하면?\n"
          ]
        }
      ],
      "source": [
        "from langchain.prompts import PromptTemplate\n",
        "\n",
        "# 입력 변수가 없는 프롬프트 템플릿 만들기\n",
        "no_input_prompt = PromptTemplate(\n",
        "    input_variables=[],\n",
        "    template=\"멋진 동물이라고 하면?\"\n",
        ")\n",
        "\n",
        "# 프롬프트 생성\n",
        "print(no_input_prompt.format())"
      ]
    },
    {
      "cell_type": "code",
      "execution_count": 4,
      "metadata": {
        "id": "oT6TOM9YXFbW",
        "outputId": "4f44cd42-7e76-4678-9d26-4b5a14e1fff8",
        "colab": {
          "base_uri": "https://localhost:8080/",
          "height": 0
        }
      },
      "outputs": [
        {
          "output_type": "stream",
          "name": "stdout",
          "text": [
            "멋진 동물이라고 하면?\n"
          ]
        }
      ],
      "source": [
        "from langchain.prompts import PromptTemplate\n",
        "\n",
        "# 하나의 입력 변수가 있는 프롬프트 템플릿 만들기\n",
        "one_input_prompt = PromptTemplate(\n",
        "    input_variables=[\"content\"],\n",
        "    template=\"멋진 {content}이라고 하면?\"\n",
        ")\n",
        "\n",
        "# 프롬프트 생성\n",
        "print(one_input_prompt.format(content=\"동물\"))"
      ]
    },
    {
      "cell_type": "code",
      "execution_count": 5,
      "metadata": {
        "id": "Lsnj4yrTXfUq",
        "outputId": "59065dff-1afc-4789-a98e-4fcfb5a12745",
        "colab": {
          "base_uri": "https://localhost:8080/",
          "height": 0
        }
      },
      "outputs": [
        {
          "output_type": "stream",
          "name": "stdout",
          "text": [
            "멋진동물이라고 하면?\n"
          ]
        }
      ],
      "source": [
        "from langchain.prompts import PromptTemplate\n",
        "\n",
        "# 여러 개의 입력 변수가 있는 프롬프트 템플릿 만들기\n",
        "multiple_input_prompt = PromptTemplate(\n",
        "    input_variables=[\"adjective\", \"content\"],\n",
        "    template=\"{adjective}{content}이라고 하면?\"\n",
        ")\n",
        "\n",
        "# 프롬프트 생성\n",
        "print(multiple_input_prompt.format(adjective=\"멋진\", content=\"동물\"))"
      ]
    },
    {
      "cell_type": "code",
      "execution_count": 6,
      "metadata": {
        "id": "Pk7zBZyxX6rc",
        "outputId": "f6d36d88-44d0-4ebf-9a76-8efd27c3f9fb",
        "colab": {
          "base_uri": "https://localhost:8080/",
          "height": 0
        }
      },
      "outputs": [
        {
          "output_type": "stream",
          "name": "stdout",
          "text": [
            "\n",
            "\n",
            "Q: foo\n",
            "A: bar\n",
            "\n",
            "Q: 1\n",
            "A: 2\n",
            "\n"
          ]
        }
      ],
      "source": [
        "from langchain.prompts import PromptTemplate\n",
        "\n",
        "# jinja2를 이용한 프롬프트 템플릿 준비\n",
        "jinja2_prompt = PromptTemplate(\n",
        "    input_variables=[\"items\"],\n",
        "    template_format=\"jinja2\",\n",
        "    template=\"\"\"\n",
        "{% for item in items %}\n",
        "Q: {{ item.question }}\n",
        "A: {{ item.answer }}\n",
        "{% endfor %}\n",
        "\"\"\"\n",
        ")\n",
        "\n",
        "# 프롬프트 생성\n",
        "items=[\n",
        "    {\"question\": \"foo\", \"answer\": \"bar\"},\n",
        "    {\"question\": \"1\", \"answer\": \"2\"}\n",
        "]\n",
        "print(jinja2_prompt.format(items=items))"
      ]
    },
    {
      "cell_type": "markdown",
      "metadata": {
        "id": "I0QvwzcRFj10"
      },
      "source": [
        "# 답변 예시가 포함된 프롬프트 템플릿"
      ]
    },
    {
      "cell_type": "code",
      "execution_count": 7,
      "metadata": {
        "id": "rcjLrvZ6Fk-e",
        "outputId": "6bfee93a-f4b3-4e64-b4ab-ba559c637f00",
        "colab": {
          "base_uri": "https://localhost:8080/",
          "height": 0
        }
      },
      "outputs": [
        {
          "output_type": "stream",
          "name": "stdout",
          "text": [
            "모든 입력에 대한 반의어를 입력하세요\n",
            "\n",
            "입력: 밝은\n",
            "출력: 어두운\n",
            "\n",
            "입력: 재미있는\n",
            "출력: 지루한\n",
            "\n",
            "입력: 큰\n",
            "출력:\n"
          ]
        }
      ],
      "source": [
        "from langchain.prompts import FewShotPromptTemplate\n",
        "\n",
        "# 답변 예시 준비\n",
        "examples = [\n",
        "    {\"input\": \"밝은\", \"output\": \"어두운\"},\n",
        "    {\"input\": \"재미있는\", \"output\": \"지루한\"},\n",
        "]\n",
        "\n",
        "# 프롬프트 템플릿 생성\n",
        "example_prompt = PromptTemplate(\n",
        "    input_variables=[\"input\",\"output\"],\n",
        "    template=\"입력: {input}\\n출력: {output}\",\n",
        ")\n",
        "\n",
        "# 답변 예시를 포함한 프롬프트 템플릿 만들기\n",
        "prompt_from_string_examples = FewShotPromptTemplate(\n",
        "    examples=examples, # 답변 예시\n",
        "    example_prompt=example_prompt, # 프롬프트 템플릿\n",
        "    prefix=\"모든 입력에 대한 반의어를 입력하세요\", # 접두사\n",
        "    suffix=\"입력: {adjective}\\n출력:\", # 접미사\n",
        "    input_variables=[\"adjective\"], # 입력 변수\n",
        "    example_separator=\"\\n\\n\" # 구분 기호\n",
        "\n",
        ")\n",
        "\n",
        "# 프롬프트 생성\n",
        "print(prompt_from_string_examples.format(adjective=\"큰\"))"
      ]
    },
    {
      "cell_type": "markdown",
      "metadata": {
        "id": "BDyN588AFvt9"
      },
      "source": [
        "# LengthBasedExampleSelector"
      ]
    },
    {
      "cell_type": "code",
      "execution_count": 11,
      "metadata": {
        "id": "m6N9nSJPFxO0",
        "outputId": "78179b68-8fde-483e-8fed-c8f159a0c8ad",
        "colab": {
          "base_uri": "https://localhost:8080/",
          "height": 0
        }
      },
      "outputs": [
        {
          "output_type": "stream",
          "name": "stdout",
          "text": [
            "모든 입력에 대한 반의어를 입력하세요\n",
            "\n",
            "입력: 밝은\n",
            "출력: 어두운\n",
            "\n",
            "입력: 재미있는\n",
            "출력: 지루한\n",
            "\n",
            "입력: 큰\n",
            "출력:\n"
          ]
        }
      ],
      "source": [
        "from langchain.prompts import FewShotPromptTemplate\n",
        "from langchain.prompts.example_selector import LengthBasedExampleSelector\n",
        "\n",
        "# 답변 예시 준비\n",
        "examples = [\n",
        "    {\"input\": \"밝은\", \"output\": \"어두운\"},\n",
        "    {\"input\": \"재미있는\", \"output\": \"지루한\"},\n",
        "    {\"input\": \"활기찬\", \"output\": \"무기력한\"},\n",
        "    {\"input\": \"높은\", \"output\": \"낮은\"},\n",
        "    {\"input\": \"빠른\", \"output\": \"느린\"},\n",
        "]\n",
        "\n",
        "# 프롬프트 템플릿 생성\n",
        "example_prompt = PromptTemplate(\n",
        "    input_variables=[\"input\",\"output\"],\n",
        "    template=\"입력: {input}\\n출력: {output}\",\n",
        ")\n",
        "\n",
        "# LengthBasedExampleSelector 생성\n",
        "example_selector = LengthBasedExampleSelector(\n",
        "    examples=examples, # 답변 예시\n",
        "    example_prompt=example_prompt, # 프롬프트 템플릿\n",
        "    max_length=10, # 문자열의 최대 길이\n",
        ")\n",
        "\n",
        "# FewShotPromptTemplate 생성\n",
        "prompt_from_string_examples = FewShotPromptTemplate(\n",
        "    example_selector=example_selector,  # ExampleSelector\n",
        "    example_prompt=example_prompt,\n",
        "    prefix=\"모든 입력에 대한 반의어를 입력하세요\",\n",
        "    suffix=\"입력: {adjective}\\n출력:\",\n",
        "    input_variables=[\"adjective\"],\n",
        "    example_separator=\"\\n\\n\"\n",
        ")\n",
        "\n",
        "# 프롬프트 생성\n",
        "print(prompt_from_string_examples.format(adjective=\"큰\"))"
      ]
    },
    {
      "cell_type": "markdown",
      "metadata": {
        "id": "BRdaDPJ9G9PX"
      },
      "source": [
        "# SemanticSimilarityExampleSelector"
      ]
    },
    {
      "cell_type": "code",
      "execution_count": 12,
      "metadata": {
        "id": "GlXjHv5FHB4f",
        "outputId": "176c0d2c-5263-46a8-a41d-6ca7a09edf13",
        "colab": {
          "base_uri": "https://localhost:8080/",
          "height": 0
        }
      },
      "outputs": [
        {
          "output_type": "stream",
          "name": "stdout",
          "text": [
            "모든 입력에 대한 반의어를 입력하세요\n",
            "\n",
            "입력: 높은\n",
            "출력: 낮은\n",
            "\n",
            "입력: 재미있는\n",
            "출력: 지루한\n",
            "\n",
            "입력: 밝은\n",
            "출력: 어두운\n",
            "\n",
            "입력: 큰\n",
            "출력:\n"
          ]
        }
      ],
      "source": [
        "from langchain.prompts.example_selector import SemanticSimilarityExampleSelector\n",
        "from langchain.vectorstores import FAISS\n",
        "from langchain.embeddings import OpenAIEmbeddings\n",
        "from langchain.prompts import FewShotPromptTemplate\n",
        "\n",
        "# 답변 예시 준비\n",
        "examples = [\n",
        "    {\"input\": \"밝은\", \"output\": \"어두운\"},\n",
        "    {\"input\": \"재미있는\", \"output\": \"지루한\"},\n",
        "    {\"input\": \"활기찬\", \"output\": \"무기력한\"},\n",
        "    {\"input\": \"높은\", \"output\": \"낮은\"},\n",
        "    {\"input\": \"빠른\", \"output\": \"느린\"},\n",
        "]\n",
        "\n",
        "# 프롬프트 템플릿 생성\n",
        "example_prompt = PromptTemplate(\n",
        "    input_variables=[\"input\",\"output\"],\n",
        "    template=\"입력: {input}\\n출력: {output}\",\n",
        ")\n",
        "\n",
        "# SemanticSimilarityExampleSelector 생성\n",
        "example_selector = SemanticSimilarityExampleSelector.from_examples(\n",
        "    examples=examples, # 답변 예시\n",
        "    embeddings=OpenAIEmbeddings(), # 임베디드 생성 클래스\n",
        "    vectorstore_cls=FAISS, # 임베디드 유사 검색 클래스\n",
        "    k=3 # 답변 예시 개수\n",
        ")\n",
        "\n",
        "# FewShotPromptTemplate 생성\n",
        "prompt_from_string_examples = FewShotPromptTemplate(\n",
        "    example_selector=example_selector,  # ExampleSelector\n",
        "    example_prompt=example_prompt,\n",
        "    prefix=\"모든 입력에 대한 반의어를 입력하세요\",\n",
        "    suffix=\"입력: {adjective}\\n출력:\",\n",
        "    input_variables=[\"adjective\"],\n",
        "    example_separator=\"\\n\\n\"\n",
        ")\n",
        "\n",
        "# 프롬프트 생성\n",
        "print(prompt_from_string_examples.format(adjective=\"큰\"))"
      ]
    },
    {
      "cell_type": "markdown",
      "metadata": {
        "id": "KZBrH6W-HFLs"
      },
      "source": [
        "# MaxMarginalRelevanceExampleSelector"
      ]
    },
    {
      "cell_type": "code",
      "execution_count": 13,
      "metadata": {
        "id": "pTYHBw6LHFgR",
        "outputId": "3ddeda2d-6c70-462a-c03c-9625fd51aa44",
        "colab": {
          "base_uri": "https://localhost:8080/",
          "height": 0
        }
      },
      "outputs": [
        {
          "output_type": "stream",
          "name": "stdout",
          "text": [
            "모든 입력에 대한 반의어를 입력하세요\n",
            "\n",
            "입력: 높은\n",
            "출력: 낮은\n",
            "\n",
            "입력: 재미있는\n",
            "출력: 지루한\n",
            "\n",
            "입력: 밝은\n",
            "출력: 어두운\n",
            "\n",
            "입력: 큰\n",
            "출력:\n"
          ]
        }
      ],
      "source": [
        "from langchain.prompts.example_selector import MaxMarginalRelevanceExampleSelector\n",
        "from langchain.vectorstores import FAISS\n",
        "from langchain.embeddings import OpenAIEmbeddings\n",
        "from langchain.prompts import FewShotPromptTemplate\n",
        "\n",
        "# 답변 예시 준비\n",
        "examples = [\n",
        "    {\"input\": \"밝은\", \"output\": \"어두운\"},\n",
        "    {\"input\": \"재미있는\", \"output\": \"지루한\"},\n",
        "    {\"input\": \"활기찬\", \"output\": \"무기력한\"},\n",
        "    {\"input\": \"높은\", \"output\": \"낮은\"},\n",
        "    {\"input\": \"빠른\", \"output\": \"느린\"},\n",
        "]\n",
        "\n",
        "# 프롬프트 템플릿 생성\n",
        "example_prompt = PromptTemplate(\n",
        "    input_variables=[\"input\",\"output\"],\n",
        "    template=\"입력: {input}\\n출력: {output}\",\n",
        ")\n",
        "\n",
        "# MaxMarginalRelevanceExampleSelector 생성\n",
        "example_selector = MaxMarginalRelevanceExampleSelector.from_examples(\n",
        "    examples=examples, # 답변 예시\n",
        "    embeddings=OpenAIEmbeddings(), # 임베디드 생성 클래스\n",
        "    vectorstore_cls=FAISS, # 임베디드 유사 검색 클래스\n",
        "    k=3 # 답변 예시 개수\n",
        ")\n",
        "\n",
        "# FewShotPromptTemplate 준비\n",
        "prompt_from_string_examples = FewShotPromptTemplate(\n",
        "    example_selector=example_selector,\n",
        "    example_prompt=example_prompt,\n",
        "    prefix=\"모든 입력에 대한 반의어를 입력하세요\",\n",
        "    suffix=\"입력: {adjective}\\n출력:\",\n",
        "    input_variables=[\"adjective\"],\n",
        "    example_separator=\"\\n\\n\"\n",
        "\n",
        ")\n",
        "\n",
        "# 프롬프트 생성\n",
        "print(prompt_from_string_examples.format(adjective=\"큰\"))"
      ]
    }
  ],
  "metadata": {
    "colab": {
      "provenance": []
    },
    "kernelspec": {
      "display_name": "Python 3 (ipykernel)",
      "language": "python",
      "name": "python3"
    },
    "language_info": {
      "codemirror_mode": {
        "name": "ipython",
        "version": 3
      },
      "file_extension": ".py",
      "mimetype": "text/x-python",
      "name": "python",
      "nbconvert_exporter": "python",
      "pygments_lexer": "ipython3",
      "version": "3.11.3"
    }
  },
  "nbformat": 4,
  "nbformat_minor": 0
}