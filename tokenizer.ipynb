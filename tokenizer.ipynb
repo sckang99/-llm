{
  "cells": [
    {
      "cell_type": "markdown",
      "metadata": {
        "id": "LLgDJXeGEAZ0"
      },
      "source": [
        "# 토크나이저 사용"
      ]
    },
    {
      "cell_type": "code",
      "execution_count": 1,
      "metadata": {
        "id": "mkPbwp6-ploX",
        "outputId": "4f81ff38-71e4-4e0d-99e9-e916ddff1e65",
        "colab": {
          "base_uri": "https://localhost:8080/"
        }
      },
      "outputs": [
        {
          "output_type": "stream",
          "name": "stdout",
          "text": [
            "Collecting tiktoken\n",
            "  Downloading tiktoken-0.7.0-cp310-cp310-manylinux_2_17_x86_64.manylinux2014_x86_64.whl.metadata (6.6 kB)\n",
            "Requirement already satisfied: regex>=2022.1.18 in /usr/local/lib/python3.10/dist-packages (from tiktoken) (2024.5.15)\n",
            "Requirement already satisfied: requests>=2.26.0 in /usr/local/lib/python3.10/dist-packages (from tiktoken) (2.31.0)\n",
            "Requirement already satisfied: charset-normalizer<4,>=2 in /usr/local/lib/python3.10/dist-packages (from requests>=2.26.0->tiktoken) (3.3.2)\n",
            "Requirement already satisfied: idna<4,>=2.5 in /usr/local/lib/python3.10/dist-packages (from requests>=2.26.0->tiktoken) (3.7)\n",
            "Requirement already satisfied: urllib3<3,>=1.21.1 in /usr/local/lib/python3.10/dist-packages (from requests>=2.26.0->tiktoken) (2.0.7)\n",
            "Requirement already satisfied: certifi>=2017.4.17 in /usr/local/lib/python3.10/dist-packages (from requests>=2.26.0->tiktoken) (2024.7.4)\n",
            "Downloading tiktoken-0.7.0-cp310-cp310-manylinux_2_17_x86_64.manylinux2014_x86_64.whl (1.1 MB)\n",
            "\u001b[2K   \u001b[90m━━━━━━━━━━━━━━━━━━━━━━━━━━━━━━━━━━━━━━━━\u001b[0m \u001b[32m1.1/1.1 MB\u001b[0m \u001b[31m10.9 MB/s\u001b[0m eta \u001b[36m0:00:00\u001b[0m\n",
            "\u001b[?25hInstalling collected packages: tiktoken\n",
            "Successfully installed tiktoken-0.7.0\n"
          ]
        }
      ],
      "source": [
        "# tiktoken 패키지 설치\n",
        "!pip install tiktoken"
      ]
    },
    {
      "cell_type": "code",
      "execution_count": 2,
      "metadata": {
        "id": "vawrIIxPC78P"
      },
      "outputs": [],
      "source": [
        "import tiktoken\n",
        "\n",
        "# 인코딩 획득\n",
        "enc = tiktoken.get_encoding(\"cl100k_base\")"
      ]
    },
    {
      "cell_type": "code",
      "execution_count": 3,
      "metadata": {
        "id": "dVwB0Jg7C8AX",
        "outputId": "16e310a1-758d-47c5-9fb5-0d794a750ca4",
        "colab": {
          "base_uri": "https://localhost:8080/"
        }
      },
      "outputs": [
        {
          "output_type": "stream",
          "name": "stdout",
          "text": [
            "3\n",
            "[9906, 4435, 0]\n"
          ]
        }
      ],
      "source": [
        "# 인코딩 실행\n",
        "tokens = enc.encode(\"Hello World!\")\n",
        "print(len(tokens))\n",
        "print(tokens)"
      ]
    },
    {
      "cell_type": "code",
      "execution_count": 4,
      "metadata": {
        "id": "vq9NSv45Dbgk",
        "outputId": "535b11d3-e745-45ca-8f4b-402284ab0e6b",
        "colab": {
          "base_uri": "https://localhost:8080/"
        }
      },
      "outputs": [
        {
          "output_type": "stream",
          "name": "stdout",
          "text": [
            "Hello World!\n"
          ]
        }
      ],
      "source": [
        "# 디코딩 실행\n",
        "print(enc.decode(tokens))"
      ]
    },
    {
      "cell_type": "code",
      "execution_count": 5,
      "metadata": {
        "id": "igmuphvSC8Ce",
        "outputId": "3303ee65-5218-48ec-ab15-be1d4f2c0826",
        "colab": {
          "base_uri": "https://localhost:8080/"
        }
      },
      "outputs": [
        {
          "output_type": "stream",
          "name": "stdout",
          "text": [
            "[b'Hello', b' World', b'!']\n"
          ]
        }
      ],
      "source": [
        "# 분할된 상태에서 디코딩 실행\n",
        "print(enc.decode_tokens_bytes(tokens))"
      ]
    },
    {
      "cell_type": "markdown",
      "metadata": {
        "id": "axaY9gEmEHj3"
      },
      "source": [
        "# 한국어와 영어의 토큰 수 비교"
      ]
    },
    {
      "cell_type": "code",
      "execution_count": 6,
      "metadata": {
        "id": "TyVoTmvqDj0o",
        "outputId": "d962078e-fb97-456f-a85d-e15babd5a694",
        "colab": {
          "base_uri": "https://localhost:8080/"
        }
      },
      "outputs": [
        {
          "output_type": "stream",
          "name": "stdout",
          "text": [
            "10\n",
            "[31495, 230, 75265, 243, 11, 28867, 116, 57002, 54059, 0]\n"
          ]
        }
      ],
      "source": [
        "# 인코딩 실행\n",
        "tokens = enc.encode(\"안녕, 세상아!\")\n",
        "print(len(tokens))\n",
        "print(tokens)"
      ]
    },
    {
      "cell_type": "code",
      "execution_count": 7,
      "metadata": {
        "id": "c05MmxdaDj5z",
        "outputId": "9b601083-dc35-40a5-d165-fe9bf1c0f188",
        "colab": {
          "base_uri": "https://localhost:8080/"
        }
      },
      "outputs": [
        {
          "output_type": "stream",
          "name": "stdout",
          "text": [
            "안녕, 세상아!\n"
          ]
        }
      ],
      "source": [
        "# 디코딩 실행\n",
        "print(enc.decode(tokens))"
      ]
    },
    {
      "cell_type": "code",
      "execution_count": 8,
      "metadata": {
        "id": "KBrTkuN4EcEP",
        "outputId": "6e2178d8-34cd-40f4-d79f-4ab1ce84ace3",
        "colab": {
          "base_uri": "https://localhost:8080/"
        }
      },
      "outputs": [
        {
          "output_type": "stream",
          "name": "stdout",
          "text": [
            "[b'\\xec\\x95', b'\\x88', b'\\xeb\\x85', b'\\x95', ',', b' \\xec\\x84', b'\\xb8', '상', '아', '!']\n"
          ]
        }
      ],
      "source": [
        "# 분할된 상태로 디코딩\n",
        "def data2str(data):\n",
        "    try:\n",
        "        return data.decode('utf-8')\n",
        "    except UnicodeError:\n",
        "        return data\n",
        "print([data2str(data) for data in enc.decode_tokens_bytes(tokens)])"
      ]
    },
    {
      "cell_type": "markdown",
      "metadata": {
        "id": "LgSwhFRUGgDv"
      },
      "source": [
        "# 인코딩 확인"
      ]
    },
    {
      "cell_type": "code",
      "execution_count": 9,
      "metadata": {
        "id": "PziaPdA9GiMJ",
        "outputId": "8ae10e6c-7b0c-40f2-f5ed-d16b8cc7aa84",
        "colab": {
          "base_uri": "https://localhost:8080/"
        }
      },
      "outputs": [
        {
          "output_type": "stream",
          "name": "stdout",
          "text": [
            "<Encoding 'cl100k_base'>\n"
          ]
        }
      ],
      "source": [
        "import tiktoken\n",
        "\n",
        "# 인코딩 확인\n",
        "print(tiktoken.encoding_for_model(\"gpt-4\"))"
      ]
    }
  ],
  "metadata": {
    "colab": {
      "provenance": []
    },
    "kernelspec": {
      "display_name": "Python 3 (ipykernel)",
      "language": "python",
      "name": "python3"
    },
    "language_info": {
      "codemirror_mode": {
        "name": "ipython",
        "version": 3
      },
      "file_extension": ".py",
      "mimetype": "text/x-python",
      "name": "python",
      "nbconvert_exporter": "python",
      "pygments_lexer": "ipython3",
      "version": "3.11.3"
    }
  },
  "nbformat": 4,
  "nbformat_minor": 0
}